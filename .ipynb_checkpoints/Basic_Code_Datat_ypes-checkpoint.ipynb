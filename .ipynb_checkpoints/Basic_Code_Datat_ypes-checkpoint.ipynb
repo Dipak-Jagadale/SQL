{
 "cells": [
  {
   "cell_type": "markdown",
   "id": "5826ce47",
   "metadata": {},
   "source": [
    "# Python \n"
   ]
  },
  {
   "cell_type": "markdown",
   "id": "cfe76cb8",
   "metadata": {},
   "source": [
    "### Basic code\n"
   ]
  },
  {
   "cell_type": "code",
   "execution_count": 1,
   "id": "1c11a7e2",
   "metadata": {},
   "outputs": [
    {
     "name": "stdout",
     "output_type": "stream",
     "text": [
      "Hello world\n"
     ]
    }
   ],
   "source": [
    "print(\"Hello world\")\n"
   ]
  },
  {
   "cell_type": "code",
   "execution_count": 4,
   "id": "429c24f5",
   "metadata": {},
   "outputs": [
    {
     "name": "stdout",
     "output_type": "stream",
     "text": [
      "6\n",
      "9.6\n",
      "(5+4j)\n"
     ]
    }
   ],
   "source": [
    "print(6)\n",
    "print(9.6)\n",
    "print (5+4j)"
   ]
  },
  {
   "cell_type": "code",
   "execution_count": 7,
   "id": "c1d67ea8",
   "metadata": {},
   "outputs": [
    {
     "name": "stdout",
     "output_type": "stream",
     "text": [
      "india Dipak Maharashtra Shivaji jannat\n",
      "india/Dipak/Maharashtra/Shivaji/jannat\n",
      "india-Dipak-Maharashtra-Shivaji-jannat\n"
     ]
    }
   ],
   "source": [
    "print(\"india\",\"Dipak\",\"Maharashtra\",\"Shivaji\",\"jannat\")\n",
    "print(\"india\",\"Dipak\",\"Maharashtra\",\"Shivaji\",\"jannat\",sep= '/')\n",
    "print(\"india\",\"Dipak\",\"Maharashtra\",\"Shivaji\",\"jannat\", sep = '-')"
   ]
  },
  {
   "cell_type": "code",
   "execution_count": 13,
   "id": "f38841f2",
   "metadata": {},
   "outputs": [
    {
     "name": "stdout",
     "output_type": "stream",
     "text": [
      "Hello world\n"
     ]
    }
   ],
   "source": [
    "print(\"Hello\",end =' ')\n",
    "print(\"world\")"
   ]
  },
  {
   "cell_type": "markdown",
   "id": "15f24439",
   "metadata": {},
   "source": [
    "### Data Types in Python\n",
    "\n",
    "1] Basic Types - (Intger,Float,Complex,Boolean,String)\n",
    "\n",
    "2]container type -(List,Tuple,Set & Dictonary)\n",
    "\n",
    "3]Use-difined Types - Class"
   ]
  },
  {
   "cell_type": "code",
   "execution_count": 26,
   "id": "514b4dc1",
   "metadata": {},
   "outputs": [
    {
     "name": "stdout",
     "output_type": "stream",
     "text": [
      "4\n",
      "50000000000000000000000000000000000000000000000\n",
      "inf\n",
      "1e+308\n"
     ]
    }
   ],
   "source": [
    "# integer\n",
    "\n",
    "print(4)\n",
    "print(50000000000000000000000000000000000000000000000)\n",
    "print(1e309)\n",
    "print(1e308)"
   ]
  },
  {
   "cell_type": "code",
   "execution_count": 28,
   "id": "1cd1afc3",
   "metadata": {},
   "outputs": [
    {
     "name": "stdout",
     "output_type": "stream",
     "text": [
      "4.5\n",
      "1.7e+308\n"
     ]
    }
   ],
   "source": [
    "#float\n",
    "print(4.5)\n",
    "print(1.7e308)"
   ]
  },
  {
   "cell_type": "code",
   "execution_count": 30,
   "id": "7c63635a",
   "metadata": {},
   "outputs": [
    {
     "name": "stdout",
     "output_type": "stream",
     "text": [
      "True\n",
      "False\n"
     ]
    }
   ],
   "source": [
    "#Boolean\n",
    "print(True)\n",
    "print(False)"
   ]
  },
  {
   "cell_type": "code",
   "execution_count": 35,
   "id": "08724b6e",
   "metadata": {},
   "outputs": [
    {
     "name": "stdout",
     "output_type": "stream",
     "text": [
      "(4+5j)\n",
      "9j\n",
      "(11+0j)\n",
      "0j\n"
     ]
    }
   ],
   "source": [
    "#complex\n",
    "print(4+5j)\n",
    "print(0+9j)\n",
    "print(11+0j)\n",
    "print(0+0j)\n"
   ]
  },
  {
   "cell_type": "code",
   "execution_count": 38,
   "id": "c676ee14",
   "metadata": {},
   "outputs": [
    {
     "name": "stdout",
     "output_type": "stream",
     "text": [
      "Kolkata\n",
      "Kolkata\n",
      "kolkata\n"
     ]
    }
   ],
   "source": [
    "#string\n",
    "print(\"Kolkata\")\n",
    "print(\"\"\"Kolkata\"\"\")\n",
    "print('kolkata')\n"
   ]
  },
  {
   "cell_type": "code",
   "execution_count": 40,
   "id": "3ff0a46f",
   "metadata": {},
   "outputs": [
    {
     "name": "stdout",
     "output_type": "stream",
     "text": [
      "(1, 2, 3, 4, 5)\n"
     ]
    }
   ],
   "source": [
    "#tuple\n",
    "print((1,2,3,4,5))"
   ]
  },
  {
   "cell_type": "code",
   "execution_count": 42,
   "id": "7edffeaa",
   "metadata": {},
   "outputs": [
    {
     "name": "stdout",
     "output_type": "stream",
     "text": [
      "{'phone:8600261039', 'Name:Dipak', 'Gender:Male', 'Age:32'}\n"
     ]
    }
   ],
   "source": [
    "#dict\n",
    "print({\"Name:Dipak\",\"Age:32\",\"phone:8600261039\",\"Gender:Male\"})"
   ]
  },
  {
   "cell_type": "markdown",
   "id": "3b7520bd",
   "metadata": {},
   "source": [
    "#### comment"
   ]
  },
  {
   "cell_type": "code",
   "execution_count": 43,
   "id": "79360248",
   "metadata": {},
   "outputs": [],
   "source": [
    "# this is comment"
   ]
  },
  {
   "cell_type": "code",
   "execution_count": null,
   "id": "43dba053",
   "metadata": {},
   "outputs": [],
   "source": []
  }
 ],
 "metadata": {
  "kernelspec": {
   "display_name": "Python 3 (ipykernel)",
   "language": "python",
   "name": "python3"
  },
  "language_info": {
   "codemirror_mode": {
    "name": "ipython",
    "version": 3
   },
   "file_extension": ".py",
   "mimetype": "text/x-python",
   "name": "python",
   "nbconvert_exporter": "python",
   "pygments_lexer": "ipython3",
   "version": "3.11.2"
  }
 },
 "nbformat": 4,
 "nbformat_minor": 5
}
