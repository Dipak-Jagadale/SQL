{
 "cells": [
  {
   "cell_type": "markdown",
   "id": "fe3bdcb6",
   "metadata": {},
   "source": [
    "# Practice "
   ]
  },
  {
   "cell_type": "code",
   "execution_count": 2,
   "id": "0a890d29",
   "metadata": {},
   "outputs": [
    {
     "name": "stdout",
     "output_type": "stream",
     "text": [
      "77\n"
     ]
    }
   ],
   "source": [
    "A = 32 \n",
    "b = 45\n",
    "print(A+b)\n",
    "\n",
    "\n"
   ]
  },
  {
   "cell_type": "code",
   "execution_count": 5,
   "id": "f7509222",
   "metadata": {},
   "outputs": [
    {
     "name": "stdout",
     "output_type": "stream",
     "text": [
      "Enter your Choice: W, X, Y, Z: S\n",
      "Invalid choice. Please enter W, X, Y, or Z.\n"
     ]
    }
   ],
   "source": [
    "s = 15\n",
    "m = 10\n",
    "\n",
    "W = s + m\n",
    "X = s - m\n",
    "Y = s / m\n",
    "Z = s * m\n",
    "\n",
    "choice = input(\"Enter your Choice: W, X, Y, Z: \")\n",
    "\n",
    "if choice == 'W':\n",
    "    print(\"W =\", W)\n",
    "elif choice == 'X':\n",
    "    print(\"X =\", X)\n",
    "elif choice == 'Y':\n",
    "    print(\"Y =\", Y)\n",
    "elif choice == 'Z':\n",
    "    print(\"Z =\", Z)\n",
    "else:\n",
    "    print(\"Invalid choice. Please enter W, X, Y, or Z.\")\n"
   ]
  },
  {
   "cell_type": "code",
   "execution_count": null,
   "id": "afc7fdca",
   "metadata": {},
   "outputs": [],
   "source": []
  }
 ],
 "metadata": {
  "kernelspec": {
   "display_name": "Python 3 (ipykernel)",
   "language": "python",
   "name": "python3"
  },
  "language_info": {
   "codemirror_mode": {
    "name": "ipython",
    "version": 3
   },
   "file_extension": ".py",
   "mimetype": "text/x-python",
   "name": "python",
   "nbconvert_exporter": "python",
   "pygments_lexer": "ipython3",
   "version": "3.11.0"
  }
 },
 "nbformat": 4,
 "nbformat_minor": 5
}
