{
 "cells": [
  {
   "cell_type": "markdown",
   "id": "fe3bdcb6",
   "metadata": {},
   "source": [
    "# Practice "
   ]
  },
  {
   "cell_type": "code",
   "execution_count": 2,
   "id": "0a890d29",
   "metadata": {},
   "outputs": [
    {
     "name": "stdout",
     "output_type": "stream",
     "text": [
      "77\n"
     ]
    }
   ],
   "source": [
    "A = 32 \n",
    "b = 45\n",
    "print(A+b)\n",
    "\n",
    "\n"
   ]
  },
  {
   "cell_type": "code",
   "execution_count": 3,
   "id": "f7509222",
   "metadata": {},
   "outputs": [
    {
     "ename": "KeyboardInterrupt",
     "evalue": "Interrupted by user",
     "output_type": "error",
     "traceback": [
      "\u001b[1;31m---------------------------------------------------------------------------\u001b[0m",
      "\u001b[1;31mKeyboardInterrupt\u001b[0m                         Traceback (most recent call last)",
      "Cell \u001b[1;32mIn [3], line 9\u001b[0m\n\u001b[0;32m      6\u001b[0m Y \u001b[38;5;241m=\u001b[39m s \u001b[38;5;241m/\u001b[39m m\n\u001b[0;32m      7\u001b[0m Z \u001b[38;5;241m=\u001b[39m s \u001b[38;5;241m*\u001b[39m m\n\u001b[1;32m----> 9\u001b[0m choice \u001b[38;5;241m=\u001b[39m \u001b[38;5;28;43minput\u001b[39;49m\u001b[43m(\u001b[49m\u001b[38;5;124;43m\"\u001b[39;49m\u001b[38;5;124;43mEnter your Choice: W, X, Y, Z: \u001b[39;49m\u001b[38;5;124;43m\"\u001b[39;49m\u001b[43m)\u001b[49m\n\u001b[0;32m     11\u001b[0m \u001b[38;5;28;01mif\u001b[39;00m choice \u001b[38;5;241m==\u001b[39m \u001b[38;5;124m'\u001b[39m\u001b[38;5;124mW\u001b[39m\u001b[38;5;124m'\u001b[39m:\n\u001b[0;32m     12\u001b[0m     \u001b[38;5;28mprint\u001b[39m(\u001b[38;5;124m\"\u001b[39m\u001b[38;5;124mW =\u001b[39m\u001b[38;5;124m\"\u001b[39m, W)\n",
      "File \u001b[1;32m~\\AppData\\Local\\Programs\\Python\\Python311\\Lib\\site-packages\\ipykernel\\kernelbase.py:1177\u001b[0m, in \u001b[0;36mKernel.raw_input\u001b[1;34m(self, prompt)\u001b[0m\n\u001b[0;32m   1173\u001b[0m \u001b[38;5;28;01mif\u001b[39;00m \u001b[38;5;129;01mnot\u001b[39;00m \u001b[38;5;28mself\u001b[39m\u001b[38;5;241m.\u001b[39m_allow_stdin:\n\u001b[0;32m   1174\u001b[0m     \u001b[38;5;28;01mraise\u001b[39;00m StdinNotImplementedError(\n\u001b[0;32m   1175\u001b[0m         \u001b[38;5;124m\"\u001b[39m\u001b[38;5;124mraw_input was called, but this frontend does not support input requests.\u001b[39m\u001b[38;5;124m\"\u001b[39m\n\u001b[0;32m   1176\u001b[0m     )\n\u001b[1;32m-> 1177\u001b[0m \u001b[38;5;28;01mreturn\u001b[39;00m \u001b[38;5;28;43mself\u001b[39;49m\u001b[38;5;241;43m.\u001b[39;49m\u001b[43m_input_request\u001b[49m\u001b[43m(\u001b[49m\n\u001b[0;32m   1178\u001b[0m \u001b[43m    \u001b[49m\u001b[38;5;28;43mstr\u001b[39;49m\u001b[43m(\u001b[49m\u001b[43mprompt\u001b[49m\u001b[43m)\u001b[49m\u001b[43m,\u001b[49m\n\u001b[0;32m   1179\u001b[0m \u001b[43m    \u001b[49m\u001b[38;5;28;43mself\u001b[39;49m\u001b[38;5;241;43m.\u001b[39;49m\u001b[43m_parent_ident\u001b[49m\u001b[43m[\u001b[49m\u001b[38;5;124;43m\"\u001b[39;49m\u001b[38;5;124;43mshell\u001b[39;49m\u001b[38;5;124;43m\"\u001b[39;49m\u001b[43m]\u001b[49m\u001b[43m,\u001b[49m\n\u001b[0;32m   1180\u001b[0m \u001b[43m    \u001b[49m\u001b[38;5;28;43mself\u001b[39;49m\u001b[38;5;241;43m.\u001b[39;49m\u001b[43mget_parent\u001b[49m\u001b[43m(\u001b[49m\u001b[38;5;124;43m\"\u001b[39;49m\u001b[38;5;124;43mshell\u001b[39;49m\u001b[38;5;124;43m\"\u001b[39;49m\u001b[43m)\u001b[49m\u001b[43m,\u001b[49m\n\u001b[0;32m   1181\u001b[0m \u001b[43m    \u001b[49m\u001b[43mpassword\u001b[49m\u001b[38;5;241;43m=\u001b[39;49m\u001b[38;5;28;43;01mFalse\u001b[39;49;00m\u001b[43m,\u001b[49m\n\u001b[0;32m   1182\u001b[0m \u001b[43m\u001b[49m\u001b[43m)\u001b[49m\n",
      "File \u001b[1;32m~\\AppData\\Local\\Programs\\Python\\Python311\\Lib\\site-packages\\ipykernel\\kernelbase.py:1219\u001b[0m, in \u001b[0;36mKernel._input_request\u001b[1;34m(self, prompt, ident, parent, password)\u001b[0m\n\u001b[0;32m   1216\u001b[0m             \u001b[38;5;28;01mbreak\u001b[39;00m\n\u001b[0;32m   1217\u001b[0m \u001b[38;5;28;01mexcept\u001b[39;00m \u001b[38;5;167;01mKeyboardInterrupt\u001b[39;00m:\n\u001b[0;32m   1218\u001b[0m     \u001b[38;5;66;03m# re-raise KeyboardInterrupt, to truncate traceback\u001b[39;00m\n\u001b[1;32m-> 1219\u001b[0m     \u001b[38;5;28;01mraise\u001b[39;00m \u001b[38;5;167;01mKeyboardInterrupt\u001b[39;00m(\u001b[38;5;124m\"\u001b[39m\u001b[38;5;124mInterrupted by user\u001b[39m\u001b[38;5;124m\"\u001b[39m) \u001b[38;5;28;01mfrom\u001b[39;00m \u001b[38;5;28mNone\u001b[39m\n\u001b[0;32m   1220\u001b[0m \u001b[38;5;28;01mexcept\u001b[39;00m \u001b[38;5;167;01mException\u001b[39;00m:\n\u001b[0;32m   1221\u001b[0m     \u001b[38;5;28mself\u001b[39m\u001b[38;5;241m.\u001b[39mlog\u001b[38;5;241m.\u001b[39mwarning(\u001b[38;5;124m\"\u001b[39m\u001b[38;5;124mInvalid Message:\u001b[39m\u001b[38;5;124m\"\u001b[39m, exc_info\u001b[38;5;241m=\u001b[39m\u001b[38;5;28;01mTrue\u001b[39;00m)\n",
      "\u001b[1;31mKeyboardInterrupt\u001b[0m: Interrupted by user"
     ]
    }
   ],
   "source": [
    "s = 15\n",
    "m = 10\n",
    "\n",
    "W = s + m\n",
    "X = s - m\n",
    "Y = s / m\n",
    "Z = s * m\n",
    "\n",
    "choice = input(\"Enter your Choice: W, X, Y, Z: \")\n",
    "\n",
    "if choice == 'W':\n",
    "    print(\"W =\", W)\n",
    "elif choice == 'X':\n",
    "    print(\"X =\", X)\n",
    "elif choice == 'Y':\n",
    "    print(\"Y =\", Y)\n",
    "elif choice == 'Z':\n",
    "    print(\"Z =\", Z)\n",
    "else:\n",
    "    print(\"Invalid choice. Please enter W, X, Y, or Z.\")\n"
   ]
  },
  {
   "cell_type": "markdown",
   "id": "ce77e044",
   "metadata": {},
   "source": [
    "# Operaters"
   ]
  },
  {
   "cell_type": "markdown",
   "id": "9011c974",
   "metadata": {},
   "source": [
    "1)Arthmatic opraters\n",
    "2)comparision opraters\n",
    "3)logical Opraterss\n",
    "4)logical opraters\n",
    "5)bitwise opraters\n",
    "6)assignment opraters\n",
    "7)identity opraters\n",
    "8)membership opraters"
   ]
  },
  {
   "cell_type": "markdown",
   "id": "6f92a4a8",
   "metadata": {},
   "source": [
    "# Arthmatic operaters\n"
   ]
  },
  {
   "cell_type": "code",
   "execution_count": null,
   "id": "8bd6b273",
   "metadata": {},
   "outputs": [],
   "source": [
    "a = 9\n",
    "b = 4\n",
    "print(a*b)\n",
    "print(a-b)\n",
    "print(a/b)\n",
    "print(a+b)"
   ]
  },
  {
   "cell_type": "code",
   "execution_count": null,
   "id": "be88c427",
   "metadata": {},
   "outputs": [],
   "source": [
    "print(15+24)"
   ]
  },
  {
   "cell_type": "code",
   "execution_count": null,
   "id": "430d97e3",
   "metadata": {},
   "outputs": [],
   "source": [
    "print(45-90)\n",
    "print(78-34)"
   ]
  },
  {
   "cell_type": "code",
   "execution_count": null,
   "id": "a5dd81d3",
   "metadata": {},
   "outputs": [],
   "source": [
    "print(a%b)"
   ]
  },
  {
   "cell_type": "code",
   "execution_count": null,
   "id": "c3776c26",
   "metadata": {},
   "outputs": [],
   "source": [
    "print(a**b)"
   ]
  },
  {
   "cell_type": "code",
   "execution_count": null,
   "id": "9372523d",
   "metadata": {},
   "outputs": [],
   "source": [
    "print(a // b)"
   ]
  },
  {
   "cell_type": "code",
   "execution_count": null,
   "id": "edbbea48",
   "metadata": {},
   "outputs": [],
   "source": [
    "print(a < b)"
   ]
  },
  {
   "cell_type": "code",
   "execution_count": null,
   "id": "13209d18",
   "metadata": {},
   "outputs": [],
   "source": [
    "print (a>b)"
   ]
  },
  {
   "cell_type": "code",
   "execution_count": null,
   "id": "646882ec",
   "metadata": {},
   "outputs": [],
   "source": [
    "print(a>=b)"
   ]
  },
  {
   "cell_type": "code",
   "execution_count": null,
   "id": "b10c8990",
   "metadata": {},
   "outputs": [],
   "source": [
    "print (a<=b)"
   ]
  },
  {
   "cell_type": "code",
   "execution_count": null,
   "id": "1e8038b3",
   "metadata": {},
   "outputs": [],
   "source": [
    "print(a == b)"
   ]
  },
  {
   "cell_type": "code",
   "execution_count": null,
   "id": "85e4a773",
   "metadata": {},
   "outputs": [],
   "source": [
    "print(a != b)"
   ]
  },
  {
   "cell_type": "markdown",
   "id": "7a435748",
   "metadata": {},
   "source": [
    "### Logical operaters"
   ]
  },
  {
   "cell_type": "markdown",
   "id": "e0c3f738",
   "metadata": {},
   "source": [
    "# *AND*\n",
    "# *OR*\n",
    "# *NOT*"
   ]
  },
  {
   "cell_type": "code",
   "execution_count": null,
   "id": "900c3d8b",
   "metadata": {},
   "outputs": [],
   "source": [
    "x =True\n",
    "y = False\n",
    "\n",
    "print( x and y)\n"
   ]
  },
  {
   "cell_type": "code",
   "execution_count": null,
   "id": "c65022a2",
   "metadata": {},
   "outputs": [],
   "source": [
    "print(x or y)\n"
   ]
  },
  {
   "cell_type": "code",
   "execution_count": null,
   "id": "1bdbd8ef",
   "metadata": {},
   "outputs": [],
   "source": [
    "print( not y)"
   ]
  },
  {
   "cell_type": "markdown",
   "id": "0a7c0ea8",
   "metadata": {},
   "source": [
    "### Bitwise Operators"
   ]
  },
  {
   "cell_type": "code",
   "execution_count": null,
   "id": "6354cf18",
   "metadata": {},
   "outputs": [],
   "source": [
    "x = 8 \n",
    "y = 9\n",
    "print(x & y)"
   ]
  },
  {
   "cell_type": "code",
   "execution_count": null,
   "id": "ac598740",
   "metadata": {},
   "outputs": [],
   "source": [
    "print ( x | y)"
   ]
  },
  {
   "cell_type": "code",
   "execution_count": null,
   "id": "50dc38f2",
   "metadata": {},
   "outputs": [],
   "source": [
    "print(x >> 9)"
   ]
  },
  {
   "cell_type": "code",
   "execution_count": null,
   "id": "fdfc113e",
   "metadata": {},
   "outputs": [],
   "source": [
    "print (y >> 3 )"
   ]
  },
  {
   "cell_type": "code",
   "execution_count": null,
   "id": "f2e4e4fe",
   "metadata": {},
   "outputs": [],
   "source": [
    "input(prompt = \"Dipak\")"
   ]
  },
  {
   "cell_type": "code",
   "execution_count": null,
   "id": "3e4adf93",
   "metadata": {},
   "outputs": [],
   "source": [
    "input()"
   ]
  },
  {
   "cell_type": "code",
   "execution_count": null,
   "id": "a8d3b719",
   "metadata": {},
   "outputs": [],
   "source": [
    "First_number = int(input(\"first number\"))\n",
    "Second_number = int(input(\"second number\"))\n",
    "\n",
    "print(First_number)\n",
    "print(Second_number)"
   ]
  },
  {
   "cell_type": "code",
   "execution_count": null,
   "id": "4a0b3635",
   "metadata": {},
   "outputs": [],
   "source": [
    "#implicit\n",
    "#explicit"
   ]
  },
  {
   "cell_type": "code",
   "execution_count": null,
   "id": "0f74e0c8",
   "metadata": {},
   "outputs": [],
   "source": [
    "type(4 + 5.5)\n",
    "4 + 5.5\n"
   ]
  },
  {
   "cell_type": "code",
   "execution_count": null,
   "id": "bfd46ab2",
   "metadata": {},
   "outputs": [],
   "source": [
    "4 + 4.9 + 4j"
   ]
  },
  {
   "cell_type": "code",
   "execution_count": null,
   "id": "cecd77f9",
   "metadata": {},
   "outputs": [],
   "source": [
    "2.9 + 9.4 + 6.8j"
   ]
  },
  {
   "cell_type": "code",
   "execution_count": null,
   "id": "7b198ec8",
   "metadata": {},
   "outputs": [],
   "source": [
    "# int \n",
    "\n",
    "int(\"99\")"
   ]
  },
  {
   "cell_type": "code",
   "execution_count": null,
   "id": "e159e4c9",
   "metadata": {},
   "outputs": [],
   "source": [
    "float('4')"
   ]
  },
  {
   "cell_type": "code",
   "execution_count": null,
   "id": "85d30964",
   "metadata": {},
   "outputs": [],
   "source": [
    "str(1)"
   ]
  },
  {
   "cell_type": "code",
   "execution_count": null,
   "id": "1508bf10",
   "metadata": {},
   "outputs": [],
   "source": [
    "bool(0)"
   ]
  },
  {
   "cell_type": "code",
   "execution_count": null,
   "id": "21d432b6",
   "metadata": {},
   "outputs": [],
   "source": [
    "bool(9)"
   ]
  },
  {
   "cell_type": "code",
   "execution_count": null,
   "id": "ffa192b7",
   "metadata": {},
   "outputs": [],
   "source": [
    "bool(9.6)"
   ]
  },
  {
   "cell_type": "markdown",
   "id": "82f99800",
   "metadata": {},
   "source": [
    "### Stirng Literels"
   ]
  },
  {
   "cell_type": "code",
   "execution_count": null,
   "id": "df571321",
   "metadata": {},
   "outputs": [],
   "source": [
    "string = \"this is python\"\n",
    "strings = \"this is python\"\n",
    "char = \"c\"\n",
    "\n",
    "multiline_str  = \"\"\"This is multiline stirng more than one line\"\"\"\n",
    "unicode = U\"\\U0001f600\\U0001f606\\U0001f923\"\n",
    "raw_str = r\"raw \\n  string\"\n",
    "\n",
    "\n",
    "print(string)\n",
    "print(strings)\n",
    "print(char)\n",
    "print(multiline_str)\n",
    "print(unicode)\n",
    "print(raw_str)"
   ]
  },
  {
   "cell_type": "markdown",
   "id": "0c011cf1",
   "metadata": {},
   "source": [
    "### Boolean Literal"
   ]
  },
  {
   "cell_type": "code",
   "execution_count": null,
   "id": "40fa9440",
   "metadata": {},
   "outputs": [],
   "source": [
    "a = True + 5\n",
    "b = False + 9\n",
    "\n",
    "print(\"a:\", a)\n",
    "print(\"b:\", b)"
   ]
  },
  {
   "cell_type": "markdown",
   "id": "12357e31",
   "metadata": {},
   "source": [
    "###  Special Literal"
   ]
  },
  {
   "cell_type": "code",
   "execution_count": null,
   "id": "ac7c6310",
   "metadata": {},
   "outputs": [],
   "source": [
    "p = None\n",
    "print(p)"
   ]
  },
  {
   "cell_type": "code",
   "execution_count": null,
   "id": "30761055",
   "metadata": {},
   "outputs": [],
   "source": [
    "p = 45+ 54\n",
    "print(p)"
   ]
  },
  {
   "cell_type": "code",
   "execution_count": null,
   "id": "cf184026",
   "metadata": {},
   "outputs": [],
   "source": [
    "# variable diclaration\n",
    "\n",
    "p = None"
   ]
  },
  {
   "cell_type": "markdown",
   "id": "b7a339c0",
   "metadata": {},
   "source": [
    "# Oprataers"
   ]
  },
  {
   "cell_type": "code",
   "execution_count": null,
   "id": "269d8b4f",
   "metadata": {},
   "outputs": [],
   "source": []
  },
  {
   "cell_type": "markdown",
   "id": "499f5d28",
   "metadata": {},
   "source": [
    "### If-Else  Statement"
   ]
  },
  {
   "cell_type": "code",
   "execution_count": 6,
   "id": "ac174e33",
   "metadata": {},
   "outputs": [
    {
     "ename": "KeyboardInterrupt",
     "evalue": "Interrupted by user",
     "output_type": "error",
     "traceback": [
      "\u001b[1;31m---------------------------------------------------------------------------\u001b[0m",
      "\u001b[1;31mKeyboardInterrupt\u001b[0m                         Traceback (most recent call last)",
      "Cell \u001b[1;32mIn [6], line 4\u001b[0m\n\u001b[0;32m      1\u001b[0m \u001b[38;5;66;03m# emailid - dipakjagadale@gmail.com\u001b[39;00m\n\u001b[0;32m      2\u001b[0m \u001b[38;5;66;03m# password - 1234\u001b[39;00m\n\u001b[1;32m----> 4\u001b[0m mailid \u001b[38;5;241m=\u001b[39m \u001b[38;5;28;43minput\u001b[39;49m\u001b[43m(\u001b[49m\u001b[38;5;124;43m\"\u001b[39;49m\u001b[38;5;124;43mMail id\u001b[39;49m\u001b[38;5;124;43m\"\u001b[39;49m\u001b[43m)\u001b[49m\n\u001b[0;32m      5\u001b[0m password \u001b[38;5;241m=\u001b[39m \u001b[38;5;28minput\u001b[39m(\u001b[38;5;124m\"\u001b[39m\u001b[38;5;124mpassword\u001b[39m\u001b[38;5;124m\"\u001b[39m)\n\u001b[0;32m      7\u001b[0m \u001b[38;5;28;01mif\u001b[39;00m mailid \u001b[38;5;241m==\u001b[39m dipakjagadale\u001b[38;5;129m@gmail\u001b[39m\u001b[38;5;241m.\u001b[39mcom \u001b[38;5;129;01mand\u001b[39;00m password \u001b[38;5;241m==\u001b[39m \u001b[38;5;241m1234\u001b[39m:\n",
      "File \u001b[1;32m~\\AppData\\Local\\Programs\\Python\\Python311\\Lib\\site-packages\\ipykernel\\kernelbase.py:1177\u001b[0m, in \u001b[0;36mKernel.raw_input\u001b[1;34m(self, prompt)\u001b[0m\n\u001b[0;32m   1173\u001b[0m \u001b[38;5;28;01mif\u001b[39;00m \u001b[38;5;129;01mnot\u001b[39;00m \u001b[38;5;28mself\u001b[39m\u001b[38;5;241m.\u001b[39m_allow_stdin:\n\u001b[0;32m   1174\u001b[0m     \u001b[38;5;28;01mraise\u001b[39;00m StdinNotImplementedError(\n\u001b[0;32m   1175\u001b[0m         \u001b[38;5;124m\"\u001b[39m\u001b[38;5;124mraw_input was called, but this frontend does not support input requests.\u001b[39m\u001b[38;5;124m\"\u001b[39m\n\u001b[0;32m   1176\u001b[0m     )\n\u001b[1;32m-> 1177\u001b[0m \u001b[38;5;28;01mreturn\u001b[39;00m \u001b[38;5;28;43mself\u001b[39;49m\u001b[38;5;241;43m.\u001b[39;49m\u001b[43m_input_request\u001b[49m\u001b[43m(\u001b[49m\n\u001b[0;32m   1178\u001b[0m \u001b[43m    \u001b[49m\u001b[38;5;28;43mstr\u001b[39;49m\u001b[43m(\u001b[49m\u001b[43mprompt\u001b[49m\u001b[43m)\u001b[49m\u001b[43m,\u001b[49m\n\u001b[0;32m   1179\u001b[0m \u001b[43m    \u001b[49m\u001b[38;5;28;43mself\u001b[39;49m\u001b[38;5;241;43m.\u001b[39;49m\u001b[43m_parent_ident\u001b[49m\u001b[43m[\u001b[49m\u001b[38;5;124;43m\"\u001b[39;49m\u001b[38;5;124;43mshell\u001b[39;49m\u001b[38;5;124;43m\"\u001b[39;49m\u001b[43m]\u001b[49m\u001b[43m,\u001b[49m\n\u001b[0;32m   1180\u001b[0m \u001b[43m    \u001b[49m\u001b[38;5;28;43mself\u001b[39;49m\u001b[38;5;241;43m.\u001b[39;49m\u001b[43mget_parent\u001b[49m\u001b[43m(\u001b[49m\u001b[38;5;124;43m\"\u001b[39;49m\u001b[38;5;124;43mshell\u001b[39;49m\u001b[38;5;124;43m\"\u001b[39;49m\u001b[43m)\u001b[49m\u001b[43m,\u001b[49m\n\u001b[0;32m   1181\u001b[0m \u001b[43m    \u001b[49m\u001b[43mpassword\u001b[49m\u001b[38;5;241;43m=\u001b[39;49m\u001b[38;5;28;43;01mFalse\u001b[39;49;00m\u001b[43m,\u001b[49m\n\u001b[0;32m   1182\u001b[0m \u001b[43m\u001b[49m\u001b[43m)\u001b[49m\n",
      "File \u001b[1;32m~\\AppData\\Local\\Programs\\Python\\Python311\\Lib\\site-packages\\ipykernel\\kernelbase.py:1219\u001b[0m, in \u001b[0;36mKernel._input_request\u001b[1;34m(self, prompt, ident, parent, password)\u001b[0m\n\u001b[0;32m   1216\u001b[0m             \u001b[38;5;28;01mbreak\u001b[39;00m\n\u001b[0;32m   1217\u001b[0m \u001b[38;5;28;01mexcept\u001b[39;00m \u001b[38;5;167;01mKeyboardInterrupt\u001b[39;00m:\n\u001b[0;32m   1218\u001b[0m     \u001b[38;5;66;03m# re-raise KeyboardInterrupt, to truncate traceback\u001b[39;00m\n\u001b[1;32m-> 1219\u001b[0m     \u001b[38;5;28;01mraise\u001b[39;00m \u001b[38;5;167;01mKeyboardInterrupt\u001b[39;00m(\u001b[38;5;124m\"\u001b[39m\u001b[38;5;124mInterrupted by user\u001b[39m\u001b[38;5;124m\"\u001b[39m) \u001b[38;5;28;01mfrom\u001b[39;00m \u001b[38;5;28mNone\u001b[39m\n\u001b[0;32m   1220\u001b[0m \u001b[38;5;28;01mexcept\u001b[39;00m \u001b[38;5;167;01mException\u001b[39;00m:\n\u001b[0;32m   1221\u001b[0m     \u001b[38;5;28mself\u001b[39m\u001b[38;5;241m.\u001b[39mlog\u001b[38;5;241m.\u001b[39mwarning(\u001b[38;5;124m\"\u001b[39m\u001b[38;5;124mInvalid Message:\u001b[39m\u001b[38;5;124m\"\u001b[39m, exc_info\u001b[38;5;241m=\u001b[39m\u001b[38;5;28;01mTrue\u001b[39;00m)\n",
      "\u001b[1;31mKeyboardInterrupt\u001b[0m: Interrupted by user"
     ]
    }
   ],
   "source": [
    "# emailid - dipakjagadale@gmail.com\n",
    "# password - 1234\n",
    "\n",
    "mailid = input(\"Mail id\")\n",
    "password = input(\"password\")\n",
    "\n",
    "if mailid == dipakjagadale@gmail.com and password == 1234:\n",
    "    print(welcome)\n",
    "else:     \n",
    "    print(\"incorrect credintials\")"
   ]
  },
  {
   "cell_type": "code",
   "execution_count": null,
   "id": "d7c6a4ed",
   "metadata": {},
   "outputs": [],
   "source": []
  },
  {
   "cell_type": "code",
   "execution_count": null,
   "id": "43bcbb7d",
   "metadata": {},
   "outputs": [],
   "source": []
  }
 ],
 "metadata": {
  "kernelspec": {
   "display_name": "Python 3 (ipykernel)",
   "language": "python",
   "name": "python3"
  },
  "language_info": {
   "codemirror_mode": {
    "name": "ipython",
    "version": 3
   },
   "file_extension": ".py",
   "mimetype": "text/x-python",
   "name": "python",
   "nbconvert_exporter": "python",
   "pygments_lexer": "ipython3",
   "version": "3.11.2"
  }
 },
 "nbformat": 4,
 "nbformat_minor": 5
}
