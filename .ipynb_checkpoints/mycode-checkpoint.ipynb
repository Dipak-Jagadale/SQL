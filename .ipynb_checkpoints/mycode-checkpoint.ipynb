{
 "cells": [
  {
   "cell_type": "markdown",
   "id": "fe3bdcb6",
   "metadata": {},
   "source": [
    "# Practice "
   ]
  },
  {
   "cell_type": "code",
   "execution_count": null,
   "id": "0a890d29",
   "metadata": {},
   "outputs": [],
   "source": [
    "A = 32 \n",
    "b = 45\n",
    "print(A+b)\n",
    "\n",
    "\n"
   ]
  },
  {
   "cell_type": "code",
   "execution_count": null,
   "id": "f7509222",
   "metadata": {},
   "outputs": [],
   "source": [
    "s = 15\n",
    "m = 10\n",
    "\n",
    "W = s + m\n",
    "X = s - m\n",
    "Y = s / m\n",
    "Z = s * m\n",
    "\n",
    "choice = input(\"Enter your Choice: W, X, Y, Z: \")\n",
    "\n",
    "if choice == 'W':\n",
    "    print(\"W =\", W)\n",
    "elif choice == 'X':\n",
    "    print(\"X =\", X)\n",
    "elif choice == 'Y':\n",
    "    print(\"Y =\", Y)\n",
    "elif choice == 'Z':\n",
    "    print(\"Z =\", Z)\n",
    "else:\n",
    "    print(\"Invalid choice. Please enter W, X, Y, or Z.\")\n"
   ]
  },
  {
   "cell_type": "markdown",
   "id": "ce77e044",
   "metadata": {},
   "source": [
    "# Operaters"
   ]
  },
  {
   "cell_type": "markdown",
   "id": "9011c974",
   "metadata": {},
   "source": [
    "1)Arthmatic opraters\n",
    "2)comparision opraters\n",
    "3)logical Opraterss\n",
    "4)logical opraters\n",
    "5)bitwise opraters\n",
    "6)assignment opraters\n",
    "7)identity opraters\n",
    "8)membership opraters"
   ]
  },
  {
   "cell_type": "markdown",
   "id": "6f92a4a8",
   "metadata": {},
   "source": [
    "# Arthmatic operaters\n"
   ]
  },
  {
   "cell_type": "code",
   "execution_count": null,
   "id": "8bd6b273",
   "metadata": {},
   "outputs": [],
   "source": [
    "a = 9\n",
    "b = 4\n",
    "print(a*b)\n",
    "print(a-b)\n",
    "print(a/b)\n",
    "print(a+b)"
   ]
  },
  {
   "cell_type": "code",
   "execution_count": null,
   "id": "be88c427",
   "metadata": {},
   "outputs": [],
   "source": [
    "print(15+24)"
   ]
  },
  {
   "cell_type": "code",
   "execution_count": null,
   "id": "430d97e3",
   "metadata": {},
   "outputs": [],
   "source": [
    "print(45-90)\n",
    "print(78-34)"
   ]
  },
  {
   "cell_type": "code",
   "execution_count": null,
   "id": "a5dd81d3",
   "metadata": {},
   "outputs": [],
   "source": [
    "print(a%b)"
   ]
  },
  {
   "cell_type": "code",
   "execution_count": null,
   "id": "c3776c26",
   "metadata": {},
   "outputs": [],
   "source": [
    "print(a**b)"
   ]
  },
  {
   "cell_type": "code",
   "execution_count": null,
   "id": "9372523d",
   "metadata": {},
   "outputs": [],
   "source": [
    "print(a // b)"
   ]
  },
  {
   "cell_type": "code",
   "execution_count": null,
   "id": "edbbea48",
   "metadata": {},
   "outputs": [],
   "source": [
    "print(a < b)"
   ]
  },
  {
   "cell_type": "code",
   "execution_count": null,
   "id": "13209d18",
   "metadata": {},
   "outputs": [],
   "source": [
    "print (a>b)"
   ]
  },
  {
   "cell_type": "code",
   "execution_count": null,
   "id": "646882ec",
   "metadata": {},
   "outputs": [],
   "source": [
    "print(a>=b)"
   ]
  },
  {
   "cell_type": "code",
   "execution_count": null,
   "id": "b10c8990",
   "metadata": {},
   "outputs": [],
   "source": [
    "print (a<=b)"
   ]
  },
  {
   "cell_type": "code",
   "execution_count": null,
   "id": "1e8038b3",
   "metadata": {},
   "outputs": [],
   "source": [
    "print(a == b)"
   ]
  },
  {
   "cell_type": "code",
   "execution_count": null,
   "id": "85e4a773",
   "metadata": {},
   "outputs": [],
   "source": [
    "print(a != b)"
   ]
  },
  {
   "cell_type": "markdown",
   "id": "7a435748",
   "metadata": {},
   "source": [
    "### Logical operaters"
   ]
  },
  {
   "cell_type": "markdown",
   "id": "e0c3f738",
   "metadata": {},
   "source": [
    "# *AND*\n",
    "# *OR*\n",
    "# *NOT*"
   ]
  },
  {
   "cell_type": "code",
   "execution_count": null,
   "id": "900c3d8b",
   "metadata": {},
   "outputs": [],
   "source": [
    "x =True\n",
    "y = False\n",
    "\n",
    "print( x and y)\n"
   ]
  },
  {
   "cell_type": "code",
   "execution_count": null,
   "id": "c65022a2",
   "metadata": {},
   "outputs": [],
   "source": [
    "print(x or y)\n"
   ]
  },
  {
   "cell_type": "code",
   "execution_count": null,
   "id": "1bdbd8ef",
   "metadata": {},
   "outputs": [],
   "source": [
    "print( not y)"
   ]
  },
  {
   "cell_type": "markdown",
   "id": "0a7c0ea8",
   "metadata": {},
   "source": [
    "### Bitwise Operators"
   ]
  },
  {
   "cell_type": "code",
   "execution_count": null,
   "id": "6354cf18",
   "metadata": {},
   "outputs": [],
   "source": [
    "x = 8 \n",
    "y = 9\n",
    "print(x & y)"
   ]
  },
  {
   "cell_type": "code",
   "execution_count": null,
   "id": "ac598740",
   "metadata": {},
   "outputs": [],
   "source": [
    "print ( x | y)"
   ]
  },
  {
   "cell_type": "code",
   "execution_count": null,
   "id": "50dc38f2",
   "metadata": {},
   "outputs": [],
   "source": [
    "print(x >> 9)"
   ]
  },
  {
   "cell_type": "code",
   "execution_count": null,
   "id": "fdfc113e",
   "metadata": {},
   "outputs": [],
   "source": [
    "print (y >> 3 )"
   ]
  },
  {
   "cell_type": "code",
   "execution_count": null,
   "id": "f2e4e4fe",
   "metadata": {},
   "outputs": [],
   "source": [
    "input(prompt = \"Dipak\")"
   ]
  },
  {
   "cell_type": "code",
   "execution_count": null,
   "id": "3e4adf93",
   "metadata": {},
   "outputs": [],
   "source": [
    "input()"
   ]
  },
  {
   "cell_type": "code",
   "execution_count": null,
   "id": "a8d3b719",
   "metadata": {},
   "outputs": [],
   "source": [
    "First_number = int(input(\"first number\"))\n",
    "Second_number = int(input(\"second number\"))\n",
    "\n",
    "print(First_number)\n",
    "print(Second_number)"
   ]
  },
  {
   "cell_type": "code",
   "execution_count": null,
   "id": "4a0b3635",
   "metadata": {},
   "outputs": [],
   "source": [
    "#implicit\n",
    "#explicit"
   ]
  },
  {
   "cell_type": "code",
   "execution_count": null,
   "id": "0f74e0c8",
   "metadata": {},
   "outputs": [],
   "source": [
    "type(4 + 5.5)\n",
    "4 + 5.5\n"
   ]
  },
  {
   "cell_type": "code",
   "execution_count": null,
   "id": "bfd46ab2",
   "metadata": {},
   "outputs": [],
   "source": [
    "4 + 4.9 + 4j"
   ]
  },
  {
   "cell_type": "code",
   "execution_count": null,
   "id": "cecd77f9",
   "metadata": {},
   "outputs": [],
   "source": [
    "2.9 + 9.4 + 6.8j"
   ]
  },
  {
   "cell_type": "code",
   "execution_count": null,
   "id": "7b198ec8",
   "metadata": {},
   "outputs": [],
   "source": [
    "# int \n",
    "\n",
    "int(\"99\")"
   ]
  },
  {
   "cell_type": "code",
   "execution_count": null,
   "id": "e159e4c9",
   "metadata": {},
   "outputs": [],
   "source": [
    "float('4')"
   ]
  },
  {
   "cell_type": "code",
   "execution_count": null,
   "id": "85d30964",
   "metadata": {},
   "outputs": [],
   "source": [
    "str(1)"
   ]
  },
  {
   "cell_type": "code",
   "execution_count": null,
   "id": "1508bf10",
   "metadata": {},
   "outputs": [],
   "source": [
    "bool(0)"
   ]
  },
  {
   "cell_type": "code",
   "execution_count": null,
   "id": "21d432b6",
   "metadata": {},
   "outputs": [],
   "source": [
    "bool(9)"
   ]
  },
  {
   "cell_type": "code",
   "execution_count": null,
   "id": "ffa192b7",
   "metadata": {},
   "outputs": [],
   "source": [
    "bool(9.6)"
   ]
  },
  {
   "cell_type": "markdown",
   "id": "82f99800",
   "metadata": {},
   "source": [
    "### Stirng Literels"
   ]
  },
  {
   "cell_type": "code",
   "execution_count": null,
   "id": "df571321",
   "metadata": {},
   "outputs": [],
   "source": [
    "string = \"this is python\"\n",
    "strings = \"this is python\"\n",
    "char = \"c\"\n",
    "\n",
    "multiline_str  = \"\"\"This is multiline stirng more than one line\"\"\"\n",
    "unicode = U\"\\U0001f600\\U0001f606\\U0001f923\"\n",
    "raw_str = r\"raw \\n  string\"\n",
    "\n",
    "\n",
    "print(string)\n",
    "print(strings)\n",
    "print(char)\n",
    "print(multiline_str)\n",
    "print(unicode)\n",
    "print(raw_str)"
   ]
  },
  {
   "cell_type": "markdown",
   "id": "0c011cf1",
   "metadata": {},
   "source": [
    "### Boolean Literal"
   ]
  },
  {
   "cell_type": "code",
   "execution_count": null,
   "id": "40fa9440",
   "metadata": {},
   "outputs": [],
   "source": [
    "a = True + 5\n",
    "b = False + 9\n",
    "\n",
    "print(\"a:\", a)\n",
    "print(\"b:\", b)"
   ]
  },
  {
   "cell_type": "markdown",
   "id": "12357e31",
   "metadata": {},
   "source": [
    "###  Special Literal"
   ]
  },
  {
   "cell_type": "code",
   "execution_count": null,
   "id": "ac7c6310",
   "metadata": {},
   "outputs": [],
   "source": [
    "p = None\n",
    "print(p)"
   ]
  },
  {
   "cell_type": "code",
   "execution_count": null,
   "id": "30761055",
   "metadata": {},
   "outputs": [],
   "source": [
    "p = 45+ 54\n",
    "print(p)"
   ]
  },
  {
   "cell_type": "code",
   "execution_count": null,
   "id": "cf184026",
   "metadata": {},
   "outputs": [],
   "source": [
    "# variable diclaration\n",
    "\n",
    "p = None"
   ]
  },
  {
   "cell_type": "markdown",
   "id": "b7a339c0",
   "metadata": {},
   "source": [
    "# Oprataers"
   ]
  },
  {
   "cell_type": "code",
   "execution_count": null,
   "id": "269d8b4f",
   "metadata": {},
   "outputs": [],
   "source": []
  },
  {
   "cell_type": "markdown",
   "id": "a8e7507e",
   "metadata": {},
   "source": [
    "### If-Else  Statement"
   ]
  },
  {
   "cell_type": "code",
   "execution_count": null,
   "id": "b22df366",
   "metadata": {},
   "outputs": [],
   "source": [
    "# emailid - dipakjagadale@gmail.com\n",
    "# password - 1234\n",
    "\n",
    "mailid = input(\"Mail id\")\n",
    "password = input(\"password\")\n",
    "\n",
    "if mailid == dipakjagadale@gmail.com and password == 1234:\n",
    "    print(\"welcome\")\n",
    "else:     \n",
    "    print(\"incorrect credintials\")"
   ]
  },
  {
   "cell_type": "code",
   "execution_count": 50,
   "id": "bf36cbf2",
   "metadata": {},
   "outputs": [
    {
     "ename": "IndentationError",
     "evalue": "unindent does not match any outer indentation level (<tokenize>, line 13)",
     "output_type": "error",
     "traceback": [
      "\u001b[1;36m  File \u001b[1;32m<tokenize>:13\u001b[1;36m\u001b[0m\n\u001b[1;33m    if password == \"1234\":\u001b[0m\n\u001b[1;37m    ^\u001b[0m\n\u001b[1;31mIndentationError\u001b[0m\u001b[1;31m:\u001b[0m unindent does not match any outer indentation level\n"
     ]
    }
   ],
   "source": [
    "# emailid - dipakjagadale@gmail.com\n",
    "# password - 1234\n",
    "\n",
    "emailid = input(\"emailid\")\n",
    "if '@' in emailid:\n",
    "    password = input (\"Correct password\")\n",
    "\n",
    "    if emailid == \"dipakjagadale@gmail.com\" and password == \"1234\":\n",
    "        print(\"welcome\")\n",
    "    elif emailid == 'dipakjagadale@gmail.com' and password != \"1234\":\n",
    "         print(\"password incorrect\")\n",
    "            password = input(\"Reenter password\")\n",
    "        if password == \"1234\":\n",
    "             print(\"Finally corect\")\n",
    "        else :\n",
    "             print(\"Still incorrect\")\n",
    "    else:\n",
    "        print(\"incorrect creditials\")\n",
    "        \n",
    "else:\n",
    "    print(\"Incorrect email\")\n",
    "        "
   ]
  },
  {
   "cell_type": "code",
   "execution_count": null,
   "id": "8f842af7",
   "metadata": {},
   "outputs": [],
   "source": []
  },
  {
   "cell_type": "code",
   "execution_count": null,
   "id": "500a58df",
   "metadata": {},
   "outputs": [],
   "source": []
  }
 ],
 "metadata": {
  "kernelspec": {
   "display_name": "Python 3 (ipykernel)",
   "language": "python",
   "name": "python3"
  },
  "language_info": {
   "codemirror_mode": {
    "name": "ipython",
    "version": 3
   },
   "file_extension": ".py",
   "mimetype": "text/x-python",
   "name": "python",
   "nbconvert_exporter": "python",
   "pygments_lexer": "ipython3",
   "version": "3.11.2"
  }
 },
 "nbformat": 4,
 "nbformat_minor": 5
}
