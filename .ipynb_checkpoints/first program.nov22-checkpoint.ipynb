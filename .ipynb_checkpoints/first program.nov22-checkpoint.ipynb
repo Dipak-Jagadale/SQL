{
 "cells": [
  {
   "cell_type": "raw",
   "id": "957bfeaf",
   "metadata": {},
   "source": [
    "x=\"10\"\n",
    "y=\"20\"\n",
    "\n",
    "_x=\"40\"\n",
    "\n",
    "_x_1= \"15\"\n"
   ]
  },
  {
   "cell_type": "code",
   "execution_count": 1,
   "id": "d51b2e7d",
   "metadata": {},
   "outputs": [
    {
     "name": "stdout",
     "output_type": "stream",
     "text": [
      "Dipak\n",
      "jagadale\n"
     ]
    }
   ],
   "source": [
    "x='Dipak'\n",
    "y=\"jagadale\"\n",
    "\n",
    "print(x)\n",
    "print(y)"
   ]
  },
  {
   "cell_type": "code",
   "execution_count": 2,
   "id": "e9d149fe",
   "metadata": {},
   "outputs": [
    {
     "name": "stdout",
     "output_type": "stream",
     "text": [
      "Dipak\n",
      "Jagadale\n"
     ]
    }
   ],
   "source": [
    "first_name='Dipak'\n",
    "second_name=\"Jagadale\"\n",
    "\n",
    "print(first_name)\n",
    "print(second_name)"
   ]
  },
  {
   "cell_type": "code",
   "execution_count": 3,
   "id": "24bdb92c",
   "metadata": {},
   "outputs": [
    {
     "data": {
      "text/plain": [
       "['False',\n",
       " 'None',\n",
       " 'True',\n",
       " 'and',\n",
       " 'as',\n",
       " 'assert',\n",
       " 'async',\n",
       " 'await',\n",
       " 'break',\n",
       " 'class',\n",
       " 'continue',\n",
       " 'def',\n",
       " 'del',\n",
       " 'elif',\n",
       " 'else',\n",
       " 'except',\n",
       " 'finally',\n",
       " 'for',\n",
       " 'from',\n",
       " 'global',\n",
       " 'if',\n",
       " 'import',\n",
       " 'in',\n",
       " 'is',\n",
       " 'lambda',\n",
       " 'nonlocal',\n",
       " 'not',\n",
       " 'or',\n",
       " 'pass',\n",
       " 'raise',\n",
       " 'return',\n",
       " 'try',\n",
       " 'while',\n",
       " 'with',\n",
       " 'yield']"
      ]
     },
     "execution_count": 3,
     "metadata": {},
     "output_type": "execute_result"
    }
   ],
   "source": [
    "import keyword\n",
    "\n",
    "keyword.kwlist"
   ]
  },
  {
   "cell_type": "markdown",
   "id": "dbe49bfa",
   "metadata": {},
   "source": [
    "\n",
    "\n",
    "10    :-  Integer\n",
    "10.20  :- Float\n",
    "3+4j   :- Complex number\n",
    "True  / False  :- (1/0) :- Boolean\n",
    "\"Hello this is python\"   :  String\n",
    " "
   ]
  },
  {
   "cell_type": "markdown",
   "id": "fe0b512c",
   "metadata": {},
   "source": [
    "###  Data type of variable is the tpye of value inside the variable\n",
    " \n",
    "    \n",
    "x=10\n",
    "x=10.20\n",
    "x=3+4j\n",
    "x=true\n",
    "x=\"Hello this is python\"\n",
    "\n",
    "    \n",
    " ### pyrhon automatically identify the type of variable"
   ]
  },
  {
   "cell_type": "code",
   "execution_count": 4,
   "id": "d03f7a64",
   "metadata": {},
   "outputs": [
    {
     "name": "stdout",
     "output_type": "stream",
     "text": [
      "value of x:\n",
      "10\n",
      "Type of x: \n",
      "<class 'int'>\n",
      "\n",
      "\n",
      "value of y:\n",
      "10.2\n",
      "Type of y: \n",
      "<class 'float'>\n",
      "\n",
      "\n",
      "value of comp: \n",
      "(3+4j)\n",
      "Type of comp: \n",
      "<class 'complex'>\n",
      "\n",
      "\n",
      "value of b: \n",
      "True\n",
      "Type of b: \n",
      "<class 'bool'>\n",
      "\n",
      "\n",
      "value of comp: \n",
      "Hello this is python\n",
      "Type of comp: \n",
      "<class 'str'>\n"
     ]
    }
   ],
   "source": [
    "x=10  #Decleration\n",
    "\n",
    "print(\"value of x:\")\n",
    "print(x)\n",
    "print(\"Type of x: \")\n",
    "print(type(x))\n",
    "\n",
    "print(\"\\n\")  #newline\n",
    "\n",
    "y=10.20\n",
    "print(\"value of y:\")\n",
    "print(y)\n",
    "print(\"Type of y: \")\n",
    "print(type(y))\n",
    "\n",
    "print(\"\\n\") \n",
    "\n",
    "comp=3+4j\n",
    "print(\"value of comp: \")\n",
    "print(comp)\n",
    "print(\"Type of comp: \")\n",
    "print(type(comp))\n",
    "\n",
    "print(\"\\n\") \n",
    "\n",
    "b= True\n",
    "print(\"value of b: \")\n",
    "print(b)\n",
    "print(\"Type of b: \")\n",
    "print(type(b))\n",
    "\n",
    "print(\"\\n\") \n",
    "\n",
    "str1=\"Hello this is python\"\n",
    "print(\"value of comp: \")\n",
    "print(str1)\n",
    "print(\"Type of comp: \")\n",
    "print(type(str1))"
   ]
  },
  {
   "cell_type": "markdown",
   "id": "edb8bf48",
   "metadata": {},
   "source": [
    "### Typecasting \n",
    "\n",
    "### \" Conversion of data from one type to anather type\"\n"
   ]
  },
  {
   "cell_type": "code",
   "execution_count": 5,
   "id": "8baff5df",
   "metadata": {},
   "outputs": [
    {
     "name": "stdout",
     "output_type": "stream",
     "text": [
      "100\n",
      "<class 'int'>\n",
      "100.0\n",
      "<class 'float'>\n"
     ]
    }
   ],
   "source": [
    "val= 100\n",
    "print(val)\n",
    "print(type(val))\n",
    "\n",
    "val_f=float(val)\n",
    "print(val_f)\n",
    "print(type (val_f))\n"
   ]
  },
  {
   "cell_type": "code",
   "execution_count": 6,
   "id": "e2aadb81",
   "metadata": {},
   "outputs": [
    {
     "name": "stdout",
     "output_type": "stream",
     "text": [
      "float to int typcasting\n",
      "900\n",
      "<class 'int'>\n",
      "900.0\n",
      "<class 'float'>\n"
     ]
    }
   ],
   "source": [
    "print(\"float to int typcasting\")\n",
    "val1=900\n",
    "print(val1)\n",
    "print(type(val1))\n",
    "\n",
    "val1_i = float(val1)\n",
    "print(val1_i)\n",
    "print(type(val1_i))"
   ]
  },
  {
   "cell_type": "code",
   "execution_count": 7,
   "id": "01afc29a",
   "metadata": {},
   "outputs": [
    {
     "name": "stdout",
     "output_type": "stream",
     "text": [
      "500.20\n",
      "<class 'str'>\n",
      "500.2\n",
      "<class 'float'>\n"
     ]
    }
   ],
   "source": [
    "###  only string in which floting value cannot convert direct to integer so convert float then integer\n",
    "\n",
    "str2 = \"500.20\"\n",
    "print(str2)\n",
    "print(type(str2))\n",
    "\n",
    "#int(str2)\n",
    "\n",
    "str2_i = float(str2)\n",
    "print(str2_i)\n",
    "print(type(str2_i))\n",
    "\n"
   ]
  },
  {
   "cell_type": "markdown",
   "id": "1a31839c",
   "metadata": {},
   "source": [
    "### str to int , str to float, str to compex ,int to str,int to float,int to complex, float to str,float int,float to int,float to complex,complext  to str\n"
   ]
  },
  {
   "cell_type": "code",
   "execution_count": 8,
   "id": "6ee55ee2",
   "metadata": {},
   "outputs": [
    {
     "name": "stdout",
     "output_type": "stream",
     "text": [
      "999\n",
      "<class 'str'>\n",
      "999.0\n",
      "<class 'float'>\n",
      "551\n",
      "<class 'str'>\n",
      "(551+0j)\n",
      "<class 'complex'>\n",
      "1000\n",
      "<class 'int'>\n",
      "1000\n",
      "<class 'str'>\n",
      "4444\n",
      "<class 'int'>\n",
      "this is value of   4444\n",
      "this is value of   <class 'int'>\n"
     ]
    }
   ],
   "source": [
    "#str to int\n",
    "x = \"999\"\n",
    "print(x)\n",
    "print(type(x))\n",
    " \n",
    "var=(float(x))\n",
    "print(var)\n",
    "print (type(var))\n",
    "\n",
    "# str to float\n",
    "y = \"551\"\n",
    "print(y)\n",
    "print(type(y))\n",
    "\n",
    "var1 = complex(y)\n",
    "print(var1)\n",
    "print(type(var1))\n",
    "\n",
    "\n",
    "#int to str \n",
    "x = 1000\n",
    "print(x)\n",
    "print(type(x))\n",
    "\n",
    "var2 = str(x)\n",
    "print(var2)\n",
    "print(type(var2))\n",
    "\n",
    "#int to float to to str\n",
    "p = 4444\n",
    "print(p)\n",
    "print(type(p))\n",
    "\n",
    "print(\"this is value of  \",(p))\n",
    "print(\"this is value of  \",type(p))\n",
    "\n",
    "\n",
    "\n"
   ]
  },
  {
   "cell_type": "markdown",
   "id": "d227f0df",
   "metadata": {},
   "source": [
    "### PRACTICE\n",
    "\n",
    "string ti int\n",
    "\n",
    "str1 = \"999\"\n",
    "print(str1)\n",
    "\n",
    "\n",
    "\n"
   ]
  },
  {
   "cell_type": "code",
   "execution_count": 9,
   "id": "f80abec2",
   "metadata": {},
   "outputs": [
    {
     "name": "stdout",
     "output_type": "stream",
     "text": [
      "999\n",
      "<class 'str'>\n"
     ]
    },
    {
     "data": {
      "text/plain": [
       "999"
      ]
     },
     "execution_count": 9,
     "metadata": {},
     "output_type": "execute_result"
    }
   ],
   "source": [
    "#string to integer\n",
    "\n",
    "str1 = \"999\"\n",
    "\n",
    "print(str1)\n",
    "print(type(str1))\n",
    "\n",
    "int(str1)"
   ]
  },
  {
   "cell_type": "code",
   "execution_count": 10,
   "id": "a432b425",
   "metadata": {},
   "outputs": [
    {
     "name": "stdout",
     "output_type": "stream",
     "text": [
      "(4+6j)\n",
      "the real part:\n",
      "4.0\n",
      "the imaginary part:\n",
      "6.0\n"
     ]
    }
   ],
   "source": [
    "comp = complex(4,6)\n",
    "print(comp)\n",
    "print(\"the real part:\")\n",
    "print(comp. real)\n",
    "\n",
    "print(\"the imaginary part:\")\n",
    "print(comp.imag)"
   ]
  },
  {
   "cell_type": "code",
   "execution_count": 11,
   "id": "c8b3c1f0",
   "metadata": {},
   "outputs": [
    {
     "name": "stdout",
     "output_type": "stream",
     "text": [
      "(10+0j)\n"
     ]
    }
   ],
   "source": [
    "c = complex(10)\n",
    "print(c)"
   ]
  },
  {
   "cell_type": "code",
   "execution_count": 12,
   "id": "877fe0f9",
   "metadata": {},
   "outputs": [
    {
     "name": "stdout",
     "output_type": "stream",
     "text": [
      "(20+0j)\n",
      "\n",
      " creat a complex number using complte string\n",
      "3+4j\n",
      "<class 'str'>\n",
      "(3+4j)\n",
      "<class 'complex'>\n",
      "3.0\n",
      "4.0\n"
     ]
    }
   ],
   "source": [
    "# create a complex number using string\n",
    "\n",
    "str1 = \"10\"\n",
    "str2 = \"20\"\n",
    "\n",
    "c = complex (str2)\n",
    "print(c)\n",
    "\n",
    "print(\"\\n creat a complex number using complte string\")\n",
    "\n",
    "str3 =\"3+4j\"\n",
    "print(str3)\n",
    "print(type(str3))\n",
    "c1 = complex(str3)\n",
    "print(c1)\n",
    "print(type(c1))\n",
    "print(c1.real)\n",
    "print(c1.imag)\n",
    "\n"
   ]
  },
  {
   "cell_type": "markdown",
   "id": "206b4f9c",
   "metadata": {},
   "source": [
    "#Bool\n",
    "\n",
    "1.true\n",
    "2.false\n"
   ]
  },
  {
   "cell_type": "code",
   "execution_count": 13,
   "id": "6722312d",
   "metadata": {},
   "outputs": [
    {
     "name": "stdout",
     "output_type": "stream",
     "text": [
      "False\n"
     ]
    }
   ],
   "source": [
    "x = True\n",
    "x = False\n",
    "\n",
    "print(x)"
   ]
  },
  {
   "cell_type": "code",
   "execution_count": 14,
   "id": "e7214ed9",
   "metadata": {},
   "outputs": [
    {
     "name": "stdout",
     "output_type": "stream",
     "text": [
      "1\n"
     ]
    }
   ],
   "source": [
    "print(int(True))"
   ]
  },
  {
   "cell_type": "code",
   "execution_count": 15,
   "id": "d2916aea",
   "metadata": {},
   "outputs": [
    {
     "name": "stdout",
     "output_type": "stream",
     "text": [
      "0.0\n"
     ]
    }
   ],
   "source": [
    "print(float(False))"
   ]
  },
  {
   "cell_type": "code",
   "execution_count": 16,
   "id": "2f0ec4b6",
   "metadata": {},
   "outputs": [
    {
     "name": "stdout",
     "output_type": "stream",
     "text": [
      "1.0\n"
     ]
    }
   ],
   "source": [
    "print(float(True))"
   ]
  },
  {
   "cell_type": "code",
   "execution_count": 17,
   "id": "99b9ffb6",
   "metadata": {},
   "outputs": [
    {
     "name": "stdout",
     "output_type": "stream",
     "text": [
      "(1+0j)\n"
     ]
    }
   ],
   "source": [
    "print(complex(True))\n"
   ]
  },
  {
   "cell_type": "code",
   "execution_count": 18,
   "id": "c263d089",
   "metadata": {},
   "outputs": [
    {
     "name": "stdout",
     "output_type": "stream",
     "text": [
      "0j\n"
     ]
    }
   ],
   "source": [
    "print(complex(False))"
   ]
  },
  {
   "cell_type": "code",
   "execution_count": 19,
   "id": "2d7f52b2",
   "metadata": {},
   "outputs": [
    {
     "name": "stdout",
     "output_type": "stream",
     "text": [
      "0j\n"
     ]
    }
   ],
   "source": [
    "c9 = 0+0j\n",
    "print(c9)"
   ]
  },
  {
   "cell_type": "code",
   "execution_count": 20,
   "id": "debca53c",
   "metadata": {},
   "outputs": [
    {
     "name": "stdout",
     "output_type": "stream",
     "text": [
      "1.2\n",
      "<class 'float'>\n",
      "True\n",
      "<class 'bool'>\n",
      "False\n",
      "<class 'bool'>\n"
     ]
    }
   ],
   "source": [
    "x = 1.2\n",
    "print(x)\n",
    "print(type(x))\n",
    "var= bool(x)\n",
    "print(var)\n",
    "print(type(var))\n",
    "\n",
    "x1 = bool(0)\n",
    "print(x1)\n",
    "print(type(x1))"
   ]
  },
  {
   "cell_type": "markdown",
   "id": "f0b66819",
   "metadata": {},
   "source": [
    "# conversion from string to bool\n"
   ]
  },
  {
   "cell_type": "code",
   "execution_count": 21,
   "id": "b1e136b8",
   "metadata": {},
   "outputs": [
    {
     "name": "stdout",
     "output_type": "stream",
     "text": [
      "True\n",
      "<class 'bool'>\n"
     ]
    }
   ],
   "source": [
    "str1 = \"0\"\n",
    "str2=\"\"\n",
    "\n",
    "x=bool(str1)\n",
    "print(x)\n",
    "print(type(x))"
   ]
  },
  {
   "cell_type": "code",
   "execution_count": 22,
   "id": "6f197658",
   "metadata": {},
   "outputs": [
    {
     "name": "stdout",
     "output_type": "stream",
     "text": [
      "True\n"
     ]
    }
   ],
   "source": [
    "x= 0+1j\n",
    "b = bool(x)\n",
    "print(b)"
   ]
  },
  {
   "cell_type": "markdown",
   "id": "3f2d626d",
   "metadata": {},
   "source": [
    "### immutability\n"
   ]
  },
  {
   "cell_type": "markdown",
   "id": "f4f4f334",
   "metadata": {},
   "source": [
    "# "
   ]
  },
  {
   "cell_type": "code",
   "execution_count": 23,
   "id": "e2133f62",
   "metadata": {},
   "outputs": [
    {
     "name": "stdout",
     "output_type": "stream",
     "text": [
      "140726842687368\n",
      "and \n",
      " 140726842687368\n",
      "True\n",
      "1558888710544\n",
      "and \n",
      " 1558888710544\n",
      "1558888710544\n",
      "False\n"
     ]
    }
   ],
   "source": [
    "var = 100\n",
    "var1= var\n",
    "\n",
    "print(id(var))\n",
    "print(\"and \\n\",id(var1))\n",
    "\n",
    "print(var is var1)\n",
    "\n",
    "var = 200.10\n",
    "var1 = 200.10\n",
    "var2 = 200.10\n",
    "\n",
    "print(id(var))\n",
    "print(\"and \\n\", id(var))\n",
    "\n",
    "print(id(var))\n",
    " \n",
    "print(var is var1)\n",
    "      \n",
    "      "
   ]
  },
  {
   "cell_type": "code",
   "execution_count": 24,
   "id": "d330766b",
   "metadata": {},
   "outputs": [
    {
     "name": "stdout",
     "output_type": "stream",
     "text": [
      "b'\\n\\x16\"8J\\xff'\n",
      "<class 'bytes'>\n",
      "10\n",
      "22\n",
      "34\n",
      "56\n",
      "74\n",
      "255\n",
      "255\n",
      "val of b[5] 255\n"
     ]
    },
    {
     "ename": "TypeError",
     "evalue": "'bytes' object does not support item assignment",
     "output_type": "error",
     "traceback": [
      "\u001b[1;31m---------------------------------------------------------------------------\u001b[0m",
      "\u001b[1;31mTypeError\u001b[0m                                 Traceback (most recent call last)",
      "Cell \u001b[1;32mIn [24], line 17\u001b[0m\n\u001b[0;32m     13\u001b[0m \u001b[38;5;28mprint\u001b[39m(b[\u001b[38;5;241m5\u001b[39m])\n\u001b[0;32m     15\u001b[0m \u001b[38;5;28mprint\u001b[39m(\u001b[38;5;124m\"\u001b[39m\u001b[38;5;124mval of b[5]\u001b[39m\u001b[38;5;124m\"\u001b[39m,b[\u001b[38;5;241m5\u001b[39m])\n\u001b[1;32m---> 17\u001b[0m \u001b[43mb\u001b[49m\u001b[43m[\u001b[49m\u001b[38;5;241;43m0\u001b[39;49m\u001b[43m]\u001b[49m \u001b[38;5;241m=\u001b[39m \u001b[38;5;241m15\u001b[39m\n",
      "\u001b[1;31mTypeError\u001b[0m: 'bytes' object does not support item assignment"
     ]
    }
   ],
   "source": [
    "#byte can hold the value from o to 256\n",
    "#you can change the value of bytes once it is created\n",
    "#bytes is immtable\n",
    "\n",
    "\n",
    "b=bytes([10,22,34,56,74,255])\n",
    "\n",
    "print(b)\n",
    " \n",
    "print(type(b))\n",
    "for i in b:\n",
    "    print(i)\n",
    "print(b[5])\n",
    "\n",
    "print(\"val of b[5]\",b[5])\n",
    "\n",
    "b[0] = 15\n",
    "    "
   ]
  },
  {
   "cell_type": "code",
   "execution_count": null,
   "id": "f4756b57",
   "metadata": {},
   "outputs": [],
   "source": [
    "b = bytes ([99,33,44,88,99,66,255])\n",
    "\n",
    "print (b)\n",
    "\n",
    "print(type(b))\n",
    "      \n",
    "for i in b:\n",
    "    print(i)\n",
    "#how to access    \n",
    "print(\"val of b[5]\",b[5])\n",
    " \n",
    "    \n",
    "    \n",
    "    #try to mopdify\n",
    "    \n",
    "b[1] = 19    \n"
   ]
  },
  {
   "cell_type": "code",
   "execution_count": null,
   "id": "6ecce04e",
   "metadata": {},
   "outputs": [],
   "source": [
    "v = bytes([99,111,22,222,44,66,65])\n",
    "\n",
    "print(v)\n",
    "print(type(v))\n",
    "\n",
    "for i in v:\n",
    "    print(i)\n",
    "    \n",
    "print(\"val of v[3]\",v[3])\n",
    "\n",
    "#how to modify\n",
    "v[4] = 81\n"
   ]
  },
  {
   "cell_type": "code",
   "execution_count": null,
   "id": "ada06b7d",
   "metadata": {},
   "outputs": [],
   "source": [
    "#bytearray\n",
    "\n",
    "\n",
    "ba = bytearray([22,33,44,55,66,77])\n",
    "\n",
    "print(ba)\n",
    "print(type(ba))\n",
    "\n",
    "for i in ba:\n",
    "    print(i)\n",
    "    \n",
    "print(\"\\n\", ba[0])\n",
    "\n",
    "ba[3] = 99\n",
    "\n",
    "print(ba[3])\n",
    "\n",
    "print(\"\\n\")\n",
    "for i in ba:\n",
    "    print(i)\n",
    "\n"
   ]
  },
  {
   "cell_type": "markdown",
   "id": "0a0e8f11",
   "metadata": {},
   "source": [
    "### list\n"
   ]
  },
  {
   "cell_type": "code",
   "execution_count": 26,
   "id": "e75c43b2",
   "metadata": {},
   "outputs": [],
   "source": [
    "p_b = [11,22,334,44,66,55,77]"
   ]
  },
  {
   "cell_type": "code",
   "execution_count": 25,
   "id": "18eaf9b0",
   "metadata": {},
   "outputs": [
    {
     "data": {
      "text/plain": [
       "['False',\n",
       " 'None',\n",
       " 'True',\n",
       " 'and',\n",
       " 'as',\n",
       " 'assert',\n",
       " 'async',\n",
       " 'await',\n",
       " 'break',\n",
       " 'class',\n",
       " 'continue',\n",
       " 'def',\n",
       " 'del',\n",
       " 'elif',\n",
       " 'else',\n",
       " 'except',\n",
       " 'finally',\n",
       " 'for',\n",
       " 'from',\n",
       " 'global',\n",
       " 'if',\n",
       " 'import',\n",
       " 'in',\n",
       " 'is',\n",
       " 'lambda',\n",
       " 'nonlocal',\n",
       " 'not',\n",
       " 'or',\n",
       " 'pass',\n",
       " 'raise',\n",
       " 'return',\n",
       " 'try',\n",
       " 'while',\n",
       " 'with',\n",
       " 'yield']"
      ]
     },
     "execution_count": 25,
     "metadata": {},
     "output_type": "execute_result"
    }
   ],
   "source": [
    "import keyword\n",
    "\n",
    "keyword.kwlist"
   ]
  },
  {
   "cell_type": "code",
   "execution_count": null,
   "id": "e6b33fb4",
   "metadata": {},
   "outputs": [],
   "source": []
  }
 ],
 "metadata": {
  "kernelspec": {
   "display_name": "Python 3 (ipykernel)",
   "language": "python",
   "name": "python3"
  },
  "language_info": {
   "codemirror_mode": {
    "name": "ipython",
    "version": 3
   },
   "file_extension": ".py",
   "mimetype": "text/x-python",
   "name": "python",
   "nbconvert_exporter": "python",
   "pygments_lexer": "ipython3",
   "version": "3.11.2"
  }
 },
 "nbformat": 4,
 "nbformat_minor": 5
}
