{
 "cells": [
  {
   "cell_type": "code",
   "execution_count": 1,
   "id": "751340ea",
   "metadata": {},
   "outputs": [
    {
     "name": "stdout",
     "output_type": "stream",
     "text": [
      "56\n"
     ]
    },
    {
     "data": {
      "text/plain": [
       "'56'"
      ]
     },
     "execution_count": 1,
     "metadata": {},
     "output_type": "execute_result"
    }
   ],
   "source": [
    "input()"
   ]
  },
  {
   "cell_type": "code",
   "execution_count": 4,
   "id": "d209baeb",
   "metadata": {},
   "outputs": [
    {
     "name": "stdout",
     "output_type": "stream",
     "text": [
      "apna nam bataDipak\n"
     ]
    },
    {
     "data": {
      "text/plain": [
       "'Dipak'"
      ]
     },
     "execution_count": 4,
     "metadata": {},
     "output_type": "execute_result"
    }
   ],
   "source": [
    "input(prompt = \"apna nam bata\")"
   ]
  },
  {
   "cell_type": "code",
   "execution_count": 6,
   "id": "508d4c92",
   "metadata": {},
   "outputs": [
    {
     "name": "stdout",
     "output_type": "stream",
     "text": [
      "enter the first number 44\n",
      "enter the second num88\n",
      "44\n",
      "88\n"
     ]
    }
   ],
   "source": [
    "first_num = input(\"enter the first number \")\n",
    "second_num = input(\"enter the second num\")\n",
    "print(first_num)\n",
    "print(second_num)"
   ]
  },
  {
   "cell_type": "code",
   "execution_count": 7,
   "id": "c8bf9f4b",
   "metadata": {},
   "outputs": [
    {
     "name": "stdout",
     "output_type": "stream",
     "text": [
      "4488\n"
     ]
    }
   ],
   "source": [
    "result = first_num +second_num\n",
    "print(result)"
   ]
  },
  {
   "cell_type": "code",
   "execution_count": 8,
   "id": "12b0bac3",
   "metadata": {},
   "outputs": [
    {
     "data": {
      "text/plain": [
       "int"
      ]
     },
     "execution_count": 8,
     "metadata": {},
     "output_type": "execute_result"
    }
   ],
   "source": [
    "type(4)"
   ]
  },
  {
   "cell_type": "code",
   "execution_count": 9,
   "id": "0d8d0979",
   "metadata": {},
   "outputs": [
    {
     "data": {
      "text/plain": [
       "bool"
      ]
     },
     "execution_count": 9,
     "metadata": {},
     "output_type": "execute_result"
    }
   ],
   "source": [
    "type(True)"
   ]
  },
  {
   "cell_type": "code",
   "execution_count": 10,
   "id": "3d08a0e9",
   "metadata": {},
   "outputs": [
    {
     "data": {
      "text/plain": [
       "complex"
      ]
     },
     "execution_count": 10,
     "metadata": {},
     "output_type": "execute_result"
    }
   ],
   "source": [
    "type(4+3j)"
   ]
  },
  {
   "cell_type": "code",
   "execution_count": 11,
   "id": "0c98c630",
   "metadata": {},
   "outputs": [
    {
     "data": {
      "text/plain": [
       "list"
      ]
     },
     "execution_count": 11,
     "metadata": {},
     "output_type": "execute_result"
    }
   ],
   "source": [
    "type([1,2,3,4,5,6,7,2])"
   ]
  },
  {
   "cell_type": "code",
   "execution_count": 12,
   "id": "93f93630",
   "metadata": {},
   "outputs": [
    {
     "data": {
      "text/plain": [
       "str"
      ]
     },
     "execution_count": 12,
     "metadata": {},
     "output_type": "execute_result"
    }
   ],
   "source": [
    "type(first_num)"
   ]
  },
  {
   "cell_type": "code",
   "execution_count": null,
   "id": "3a136b99",
   "metadata": {},
   "outputs": [],
   "source": []
  },
  {
   "cell_type": "markdown",
   "id": "08b1e332",
   "metadata": {},
   "source": [
    "# Type-Casting\n"
   ]
  },
  {
   "cell_type": "code",
   "execution_count": null,
   "id": "8dea6ff6",
   "metadata": {},
   "outputs": [],
   "source": []
  },
  {
   "cell_type": "markdown",
   "id": "b1d585cb",
   "metadata": {},
   "source": [
    "### implicit\n",
    "### explicit"
   ]
  },
  {
   "cell_type": "code",
   "execution_count": null,
   "id": "7d5938c1",
   "metadata": {},
   "outputs": [],
   "source": []
  },
  {
   "cell_type": "code",
   "execution_count": null,
   "id": "a92158ab",
   "metadata": {},
   "outputs": [],
   "source": []
  }
 ],
 "metadata": {
  "kernelspec": {
   "display_name": "Python 3 (ipykernel)",
   "language": "python",
   "name": "python3"
  },
  "language_info": {
   "codemirror_mode": {
    "name": "ipython",
    "version": 3
   },
   "file_extension": ".py",
   "mimetype": "text/x-python",
   "name": "python",
   "nbconvert_exporter": "python",
   "pygments_lexer": "ipython3",
   "version": "3.11.2"
  }
 },
 "nbformat": 4,
 "nbformat_minor": 5
}
