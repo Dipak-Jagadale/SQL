{
 "cells": [
  {
   "cell_type": "markdown",
   "id": "06b0376d",
   "metadata": {},
   "source": [
    "# We should more practice on daily basis"
   ]
  },
  {
   "cell_type": "markdown",
   "id": "04bd3282",
   "metadata": {},
   "source": [
    "yes i am ready "
   ]
  },
  {
   "cell_type": "code",
   "execution_count": 1,
   "id": "b2704d2f",
   "metadata": {},
   "outputs": [
    {
     "name": "stdout",
     "output_type": "stream",
     "text": [
      "164\n"
     ]
    }
   ],
   "source": [
    "a = 66\n",
    "b = 65\n",
    "c = 33\n",
    "\n",
    "print(a+b+c)"
   ]
  },
  {
   "cell_type": "code",
   "execution_count": 2,
   "id": "5accf233",
   "metadata": {},
   "outputs": [],
   "source": [
    "exit"
   ]
  },
  {
   "cell_type": "markdown",
   "id": "6d6e70d9",
   "metadata": {},
   "source": [
    "Today my second opration successfull"
   ]
  },
  {
   "cell_type": "markdown",
   "id": "50f214eb",
   "metadata": {},
   "source": [
    "## Python practice \n",
    "\n"
   ]
  },
  {
   "cell_type": "code",
   "execution_count": 2,
   "id": "16590567",
   "metadata": {},
   "outputs": [
    {
     "name": "stdout",
     "output_type": "stream",
     "text": [
      "ambak shivaji maharaj sambhaji maharaj\n"
     ]
    }
   ],
   "source": [
    "print(\"ambak\",\"shivaji maharaj\",\"sambhaji maharaj\")\n"
   ]
  },
  {
   "cell_type": "code",
   "execution_count": 4,
   "id": "43366105",
   "metadata": {},
   "outputs": [
    {
     "name": "stdout",
     "output_type": "stream",
     "text": [
      "ram\n"
     ]
    }
   ],
   "source": [
    "print(\"ram\")"
   ]
  },
  {
   "cell_type": "code",
   "execution_count": 5,
   "id": "ced1c0ae",
   "metadata": {},
   "outputs": [
    {
     "name": "stdout",
     "output_type": "stream",
     "text": [
      "ambak/shivaji maharaj/sambhaji maharaj\n"
     ]
    }
   ],
   "source": [
    "print(\"ambak\",\"shivaji maharaj\",\"sambhaji maharaj\", sep= \"/\")"
   ]
  },
  {
   "cell_type": "code",
   "execution_count": 6,
   "id": "5179d489",
   "metadata": {},
   "outputs": [
    {
     "name": "stdout",
     "output_type": "stream",
     "text": [
      "hello\n",
      "world\n"
     ]
    }
   ],
   "source": [
    "print(\"hello\")\n",
    "print(\"world\")\n"
   ]
  },
  {
   "cell_type": "code",
   "execution_count": 7,
   "id": "da216758",
   "metadata": {},
   "outputs": [
    {
     "name": "stdout",
     "output_type": "stream",
     "text": [
      "Hello world\n"
     ]
    }
   ],
   "source": [
    "print(\"Hello\", end=' ')\n",
    "print(\"world\")"
   ]
  },
  {
   "cell_type": "code",
   "execution_count": 9,
   "id": "76ff9e2f",
   "metadata": {},
   "outputs": [
    {
     "name": "stdout",
     "output_type": "stream",
     "text": [
      "['False', 'None', 'True', 'and', 'as', 'assert', 'async', 'await', 'break', 'class', 'continue', 'def', 'del', 'elif', 'else', 'except', 'finally', 'for', 'from', 'global', 'if', 'import', 'in', 'is', 'lambda', 'nonlocal', 'not', 'or', 'pass', 'raise', 'return', 'try', 'while', 'with', 'yield']\n"
     ]
    }
   ],
   "source": [
    "import keyword\n",
    "print(keyword.kwlist)"
   ]
  },
  {
   "cell_type": "code",
   "execution_count": null,
   "id": "6b609faa",
   "metadata": {},
   "outputs": [],
   "source": []
  }
 ],
 "metadata": {
  "kernelspec": {
   "display_name": "Python 3 (ipykernel)",
   "language": "python",
   "name": "python3"
  },
  "language_info": {
   "codemirror_mode": {
    "name": "ipython",
    "version": 3
   },
   "file_extension": ".py",
   "mimetype": "text/x-python",
   "name": "python",
   "nbconvert_exporter": "python",
   "pygments_lexer": "ipython3",
   "version": "3.11.2"
  }
 },
 "nbformat": 4,
 "nbformat_minor": 5
}
