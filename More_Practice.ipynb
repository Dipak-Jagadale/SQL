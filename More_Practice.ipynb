{
 "cells": [
  {
   "cell_type": "markdown",
   "id": "06b0376d",
   "metadata": {},
   "source": [
    "# We should more practice on daily basis"
   ]
  },
  {
   "cell_type": "markdown",
   "id": "04bd3282",
   "metadata": {},
   "source": [
    "yes i am ready "
   ]
  },
  {
   "cell_type": "code",
   "execution_count": null,
   "id": "b2704d2f",
   "metadata": {},
   "outputs": [],
   "source": []
  }
 ],
 "metadata": {
  "kernelspec": {
   "display_name": "Python 3 (ipykernel)",
   "language": "python",
   "name": "python3"
  },
  "language_info": {
   "codemirror_mode": {
    "name": "ipython",
    "version": 3
   },
   "file_extension": ".py",
   "mimetype": "text/x-python",
   "name": "python",
   "nbconvert_exporter": "python",
   "pygments_lexer": "ipython3",
   "version": "3.11.0"
  }
 },
 "nbformat": 4,
 "nbformat_minor": 5
}
