{
 "cells": [
  {
   "cell_type": "markdown",
   "id": "06b0376d",
   "metadata": {},
   "source": [
    "# We should more practice on daily basis"
   ]
  },
  {
   "cell_type": "markdown",
   "id": "04bd3282",
   "metadata": {},
   "source": [
    "yes i am ready "
   ]
  },
  {
   "cell_type": "code",
   "execution_count": 1,
   "id": "b2704d2f",
   "metadata": {},
   "outputs": [
    {
     "name": "stdout",
     "output_type": "stream",
     "text": [
      "164\n"
     ]
    }
   ],
   "source": [
    "a = 66\n",
    "b = 65\n",
    "c = 33\n",
    "\n",
    "print(a+b+c)"
   ]
  },
  {
   "cell_type": "code",
   "execution_count": 2,
   "id": "5accf233",
   "metadata": {},
   "outputs": [],
   "source": [
    "exit"
   ]
  },
  {
   "cell_type": "markdown",
   "id": "ccdf30d7",
   "metadata": {},
   "source": [
    "Today my second opration successfull"
   ]
  },
  {
   "cell_type": "markdown",
   "id": "d124e95e",
   "metadata": {},
   "source": [
    "## Python practice \n",
    "\n"
   ]
  },
  {
   "cell_type": "code",
   "execution_count": 2,
   "id": "9185bd80",
   "metadata": {},
   "outputs": [
    {
     "name": "stdout",
     "output_type": "stream",
     "text": [
      "ambak shivaji maharaj sambhaji maharaj\n"
     ]
    }
   ],
   "source": [
    "print(\"ambak\",\"shivaji maharaj\",\"sambhaji maharaj\")\n"
   ]
  },
  {
   "cell_type": "code",
   "execution_count": 4,
   "id": "d96532ab",
   "metadata": {},
   "outputs": [
    {
     "name": "stdout",
     "output_type": "stream",
     "text": [
      "ram\n"
     ]
    }
   ],
   "source": [
    "print(\"ram\")"
   ]
  },
  {
   "cell_type": "code",
   "execution_count": 5,
   "id": "aeff4737",
   "metadata": {},
   "outputs": [
    {
     "name": "stdout",
     "output_type": "stream",
     "text": [
      "ambak/shivaji maharaj/sambhaji maharaj\n"
     ]
    }
   ],
   "source": [
    "print(\"ambak\",\"shivaji maharaj\",\"sambhaji maharaj\", sep= \"/\")"
   ]
  },
  {
   "cell_type": "code",
   "execution_count": 6,
   "id": "ae4984ad",
   "metadata": {},
   "outputs": [
    {
     "name": "stdout",
     "output_type": "stream",
     "text": [
      "hello\n",
      "world\n"
     ]
    }
   ],
   "source": [
    "print(\"hello\")\n",
    "print(\"world\")\n"
   ]
  },
  {
   "cell_type": "code",
   "execution_count": 7,
   "id": "9ee7ad86",
   "metadata": {},
   "outputs": [
    {
     "name": "stdout",
     "output_type": "stream",
     "text": [
      "Hello world\n"
     ]
    }
   ],
   "source": [
    "print(\"Hello\", end=' ')\n",
    "print(\"world\")"
   ]
  },
  {
   "cell_type": "code",
   "execution_count": null,
   "id": "2984f9d1",
   "metadata": {},
   "outputs": [],
   "source": []
  }
 ],
 "metadata": {
  "kernelspec": {
   "display_name": "Python 3 (ipykernel)",
   "language": "python",
   "name": "python3"
  },
  "language_info": {
   "codemirror_mode": {
    "name": "ipython",
    "version": 3
   },
   "file_extension": ".py",
   "mimetype": "text/x-python",
   "name": "python",
   "nbconvert_exporter": "python",
   "pygments_lexer": "ipython3",
   "version": "3.11.2"
  }
 },
 "nbformat": 4,
 "nbformat_minor": 5
}
