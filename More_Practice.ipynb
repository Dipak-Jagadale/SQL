{
 "cells": [
  {
   "cell_type": "markdown",
   "id": "06b0376d",
   "metadata": {},
   "source": [
    "# We should more practice on daily basis"
   ]
  },
  {
   "cell_type": "markdown",
   "id": "04bd3282",
   "metadata": {},
   "source": [
    "yes i am ready "
   ]
  },
  {
   "cell_type": "code",
   "execution_count": 1,
   "id": "b2704d2f",
   "metadata": {},
   "outputs": [
    {
     "name": "stdout",
     "output_type": "stream",
     "text": [
      "164\n"
     ]
    }
   ],
   "source": [
    "a = 66\n",
    "b = 65\n",
    "c = 33\n",
    "\n",
    "print(a+b+c)"
   ]
  },
  {
   "cell_type": "code",
   "execution_count": null,
   "id": "8e7a65e5",
   "metadata": {},
   "outputs": [],
   "source": []
  }
 ],
 "metadata": {
  "kernelspec": {
   "display_name": "Python 3 (ipykernel)",
   "language": "python",
   "name": "python3"
  },
  "language_info": {
   "codemirror_mode": {
    "name": "ipython",
    "version": 3
   },
   "file_extension": ".py",
   "mimetype": "text/x-python",
   "name": "python",
   "nbconvert_exporter": "python",
   "pygments_lexer": "ipython3",
   "version": "3.11.2"
  }
 },
 "nbformat": 4,
 "nbformat_minor": 5
}
