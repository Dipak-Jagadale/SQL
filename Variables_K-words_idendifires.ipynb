{
 "cells": [
  {
   "cell_type": "markdown",
   "id": "43aa2996",
   "metadata": {},
   "source": [
    "#Dynamic typing\n",
    "#Dynamic binding\n"
   ]
  },
  {
   "cell_type": "code",
   "execution_count": 3,
   "id": "bc05c3b5",
   "metadata": {},
   "outputs": [
    {
     "name": "stdout",
     "output_type": "stream",
     "text": [
      "Dipak\n"
     ]
    }
   ],
   "source": [
    "name = 'Dipak'\n",
    "print(name)"
   ]
  },
  {
   "cell_type": "code",
   "execution_count": null,
   "id": "70c895f9",
   "metadata": {},
   "outputs": [],
   "source": [
    "#no variable declaration"
   ]
  },
  {
   "cell_type": "markdown",
   "id": "d3df9a01",
   "metadata": {},
   "source": [
    "### Feature\n",
    "#Dynamic  typing:( PHP also )\n",
    "@You dont have to declare to datatypes\n",
    "@you dont have to specify the data dypes\n",
    "\n",
    "##paython me jab aap variable create krte ho to o automatically samaj leta he, es variable ka type kya he \n",
    "\n",
    "\n",
    "##static Typing:-\n",
    "\n",
    "#other language me specifies karna padta he datatype konsa he...\n",
    "\n",
    "\n",
    "\n"
   ]
  },
  {
   "cell_type": "code",
   "execution_count": 5,
   "id": "243b204a",
   "metadata": {},
   "outputs": [
    {
     "name": "stdout",
     "output_type": "stream",
     "text": [
      "Dipak\n"
     ]
    }
   ],
   "source": [
    "print(name)"
   ]
  },
  {
   "cell_type": "code",
   "execution_count": 7,
   "id": "5355f658",
   "metadata": {},
   "outputs": [
    {
     "name": "stdout",
     "output_type": "stream",
     "text": [
      "4\n",
      "True\n"
     ]
    }
   ],
   "source": [
    "name = 4\n",
    "print(name)\n",
    "\n",
    "name = True\n",
    "print(name)"
   ]
  },
  {
   "cell_type": "code",
   "execution_count": 8,
   "id": "fa8defc5",
   "metadata": {},
   "outputs": [
    {
     "name": "stdout",
     "output_type": "stream",
     "text": [
      "5\n",
      "6\n",
      "7\n"
     ]
    }
   ],
   "source": [
    "# special syntax\n",
    "a = 5;b=6;c=7\n",
    "print(a)\n",
    "print(b)\n",
    "print(c)"
   ]
  },
  {
   "cell_type": "code",
   "execution_count": 9,
   "id": "ffe6fa01",
   "metadata": {},
   "outputs": [
    {
     "name": "stdout",
     "output_type": "stream",
     "text": [
      "0\n",
      "3\n",
      "5\n"
     ]
    }
   ],
   "source": [
    "a,b,c=0,3,5\n",
    "print(a)\n",
    "print(b)\n",
    "print(c)\n"
   ]
  },
  {
   "cell_type": "raw",
   "id": "fcd10f86",
   "metadata": {},
   "source": [
    "a=b=c=9\n",
    "print(a)\n",
    "print(b)\n",
    "print(c)"
   ]
  },
  {
   "cell_type": "markdown",
   "id": "3a8f4337",
   "metadata": {},
   "source": [
    "# Keywords\n",
    "\n",
    "Python is a case sensitive programming language"
   ]
  },
  {
   "cell_type": "markdown",
   "id": "f817dd19",
   "metadata": {},
   "source": [
    "#In programming, a keyword is a word that is reserved by a program beause the word has a special meaning , \n",
    "keywords can be commands or parameters.\n",
    "\n",
    "#Every programming language has a set of kwywords that cannot be used as variable names"
   ]
  },
  {
   "cell_type": "code",
   "execution_count": null,
   "id": "9d31fbf3",
   "metadata": {},
   "outputs": [],
   "source": [
    "#python has 35 keywords\n",
    "import keyword\n"
   ]
  }
 ],
 "metadata": {
  "kernelspec": {
   "display_name": "Python 3 (ipykernel)",
   "language": "python",
   "name": "python3"
  },
  "language_info": {
   "codemirror_mode": {
    "name": "ipython",
    "version": 3
   },
   "file_extension": ".py",
   "mimetype": "text/x-python",
   "name": "python",
   "nbconvert_exporter": "python",
   "pygments_lexer": "ipython3",
   "version": "3.11.2"
  }
 },
 "nbformat": 4,
 "nbformat_minor": 5
}
