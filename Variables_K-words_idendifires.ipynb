{
 "cells": [
  {
   "cell_type": "markdown",
   "id": "16f6bced",
   "metadata": {},
   "source": [
    "#Dynamic typing\n",
    "#Dynamic binding\n"
   ]
  },
  {
   "cell_type": "code",
   "execution_count": 3,
   "id": "85847b08",
   "metadata": {},
   "outputs": [
    {
     "name": "stdout",
     "output_type": "stream",
     "text": [
      "Dipak\n"
     ]
    }
   ],
   "source": [
    "name = 'Dipak'\n",
    "print(name)"
   ]
  },
  {
   "cell_type": "code",
   "execution_count": null,
   "id": "0c1e7ee5",
   "metadata": {},
   "outputs": [],
   "source": [
    "#no variable declaration"
   ]
  },
  {
   "cell_type": "markdown",
   "id": "f7c484a2",
   "metadata": {},
   "source": [
    "# Feature\n",
    "### Dynamic  typing:( PHP also )\n",
    "@You dont have to declare  datatypes\n",
    "@you dont have to specify the data dypes\n",
    "\n",
    "##paython me jab aap variable create krte ho to o automatically samaj leta he, es variable ka type kya he \n",
    "\n",
    "\n",
    "### Static binding:-\n",
    "\n",
    "#other language me specifies karna padta he datatype konsa he...\n",
    "\n",
    "\n",
    "\n"
   ]
  },
  {
   "cell_type": "code",
   "execution_count": 5,
   "id": "992ca9a4",
   "metadata": {},
   "outputs": [
    {
     "name": "stdout",
     "output_type": "stream",
     "text": [
      "Dipak\n"
     ]
    }
   ],
   "source": [
    "print(name)"
   ]
  },
  {
   "cell_type": "code",
   "execution_count": 7,
   "id": "5560afb6",
   "metadata": {},
   "outputs": [
    {
     "name": "stdout",
     "output_type": "stream",
     "text": [
      "4\n",
      "True\n"
     ]
    }
   ],
   "source": [
    "name = 4\n",
    "print(name)\n",
    "\n",
    "name = True\n",
    "print(name)"
   ]
  },
  {
   "cell_type": "code",
   "execution_count": 8,
   "id": "d4b9fe66",
   "metadata": {},
   "outputs": [
    {
     "name": "stdout",
     "output_type": "stream",
     "text": [
      "5\n",
      "6\n",
      "7\n"
     ]
    }
   ],
   "source": [
    "# special syntax\n",
    "a = 5;b=6;c=7\n",
    "print(a)\n",
    "print(b)\n",
    "print(c)"
   ]
  },
  {
   "cell_type": "code",
   "execution_count": 9,
   "id": "2601e1f8",
   "metadata": {},
   "outputs": [
    {
     "name": "stdout",
     "output_type": "stream",
     "text": [
      "0\n",
      "3\n",
      "5\n"
     ]
    }
   ],
   "source": [
    "a,b,c=0,3,5\n",
    "print(a)\n",
    "print(b)\n",
    "print(c)\n"
   ]
  },
  {
   "cell_type": "raw",
   "id": "85378d6b",
   "metadata": {},
   "source": [
    "a=b=c=9\n",
    "print(a)\n",
    "print(b)\n",
    "print(c)"
   ]
  },
  {
   "cell_type": "markdown",
   "id": "79a1110f",
   "metadata": {},
   "source": [
    "# Keywords\n",
    "\n",
    "### Python is a case sensitive programming language"
   ]
  },
  {
   "cell_type": "markdown",
   "id": "0654a27f",
   "metadata": {},
   "source": [
    "#In programming, a keyword is a word that is reserved by a program beause the word has a special meaning , \n",
    "keywords can be commands or parameters.\n",
    "\n",
    "#Every programming language has a set of kwywords that cannot be used as variable names"
   ]
  },
  {
   "cell_type": "code",
   "execution_count": 12,
   "id": "c0cae98e",
   "metadata": {},
   "outputs": [
    {
     "name": "stdout",
     "output_type": "stream",
     "text": [
      "['False', 'None', 'True', 'and', 'as', 'assert', 'async', 'await', 'break', 'class', 'continue', 'def', 'del', 'elif', 'else', 'except', 'finally', 'for', 'from', 'global', 'if', 'import', 'in', 'is', 'lambda', 'nonlocal', 'not', 'or', 'pass', 'raise', 'return', 'try', 'while', 'with', 'yield']\n"
     ]
    }
   ],
   "source": [
    "#python has 35 keywords\n",
    "import keyword\n",
    "print(keyword.kwlist)"
   ]
  },
  {
   "cell_type": "markdown",
   "id": "0d6dc310",
   "metadata": {},
   "source": [
    "## identifiers\n"
   ]
  },
  {
   "cell_type": "markdown",
   "id": "dd6370c5",
   "metadata": {},
   "source": [
    "###### A python identifier is a name used to identify a variable, function, class,module or other object"
   ]
  },
  {
   "cell_type": "markdown",
   "id": "4904704e",
   "metadata": {},
   "source": [
    "##### Rules for setting indetifiers"
   ]
  },
  {
   "cell_type": "code",
   "execution_count": 13,
   "id": "2ee72ca8",
   "metadata": {},
   "outputs": [],
   "source": [
    "# can only start with an alphabet or _\n",
    "# Followed by 0 or more letter,_and digit\n",
    "# keywords cannot be used as an identifers"
   ]
  },
  {
   "cell_type": "code",
   "execution_count": 24,
   "id": "52ea27e1",
   "metadata": {},
   "outputs": [
    {
     "name": "stdout",
     "output_type": "stream",
     "text": [
      "2\n",
      "dp\n"
     ]
    }
   ],
   "source": [
    "name = \"Dipak\"\n",
    "print(2)\n",
    "\n",
    "\n",
    "_ = \"dp\"\n",
    "print(_)\n",
    "\n"
   ]
  },
  {
   "cell_type": "markdown",
   "id": "4ddc5b5e",
   "metadata": {},
   "source": [
    "##### integer or startwith or keywords inter not valid"
   ]
  },
  {
   "cell_type": "code",
   "execution_count": null,
   "id": "63f789e9",
   "metadata": {},
   "outputs": [],
   "source": []
  }
 ],
 "metadata": {
  "kernelspec": {
   "display_name": "Python 3 (ipykernel)",
   "language": "python",
   "name": "python3"
  },
  "language_info": {
   "codemirror_mode": {
    "name": "ipython",
    "version": 3
   },
   "file_extension": ".py",
   "mimetype": "text/x-python",
   "name": "python",
   "nbconvert_exporter": "python",
   "pygments_lexer": "ipython3",
   "version": "3.11.2"
  }
 },
 "nbformat": 4,
 "nbformat_minor": 5
}
