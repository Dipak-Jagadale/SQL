{
 "cells": [
  {
   "cell_type": "markdown",
   "id": "3e65e407",
   "metadata": {},
   "source": [
    "### List  Dec2022"
   ]
  },
  {
   "cell_type": "code",
   "execution_count": null,
   "id": "5267ff2b",
   "metadata": {},
   "outputs": [],
   "source": [
    "#Assignement"
   ]
  },
  {
   "cell_type": "code",
   "execution_count": 1,
   "id": "6d126bfc",
   "metadata": {},
   "outputs": [
    {
     "name": "stdout",
     "output_type": "stream",
     "text": [
      "<class 'str'>\n",
      "apple, orange,papaya , banana, fingarledi, sapota, peach, rose apple, water apple, pineapple,watermilon .ranmbatun\n"
     ]
    }
   ],
   "source": [
    "m_n = (\"apple, orange,papaya , banana, fingarledi, sapota, peach, rose apple, water apple, pineapple,watermilon,ranmbatun)\n",
    "print(type(m_n))\n",
    "print(m_n)"
   ]
  },
  {
   "cell_type": "code",
   "execution_count": 9,
   "id": "34ac3166",
   "metadata": {},
   "outputs": [
    {
     "name": "stdout",
     "output_type": "stream",
     "text": [
      "[22, 29.4, 'python', 'java', 99.9, 100]\n",
      "<class 'list'>\n"
     ]
    },
    {
     "data": {
      "text/plain": [
       "'java'"
      ]
     },
     "execution_count": 9,
     "metadata": {},
     "output_type": "execute_result"
    }
   ],
   "source": [
    "#mixing\n",
    "p_r = [22,29.4, \"python\",\"java\" ,99.9, 100] \n",
    "print(p_r)\n",
    "print(type(p_r))\n",
    "\n",
    "p_r[3]"
   ]
  },
  {
   "cell_type": "code",
   "execution_count": 16,
   "id": "5d50c431",
   "metadata": {},
   "outputs": [
    {
     "name": "stdout",
     "output_type": "stream",
     "text": [
      "[1, 2, 3, 4, 5, 6, 7, 8, 9, 0]\n",
      "[1, 2, 3, 4, 5]\n",
      "[2, 3, 4, 5]\n",
      "7\n",
      "[7, 8, 9]\n"
     ]
    }
   ],
   "source": [
    "#slicing\n",
    "\n",
    "s_q = [1,2,3,4,5,6,7,8,9,0]\n",
    "print(s_q)\n",
    "print(s_q[0:5])\n",
    "print(s_q[1:5])\n",
    "print(s_q[-4])\n",
    "print(s_q[-4:-1])"
   ]
  },
  {
   "cell_type": "code",
   "execution_count": 24,
   "id": "d518c50c",
   "metadata": {},
   "outputs": [
    {
     "name": "stdout",
     "output_type": "stream",
     "text": [
      "[1, 2, 3, 4, 6, 7, 8, 9, 0, 99, 99, 99, 99]\n",
      "[1, 2, 3, 4, 6, 7, 8, 9, 0, 99, 99, 99, 99, 99]\n"
     ]
    }
   ],
   "source": [
    "#Append\n",
    "print(s_q )\n",
    "s_q.append(99)\n",
    "print(s_q)\n"
   ]
  },
  {
   "cell_type": "code",
   "execution_count": 29,
   "id": "7c442014",
   "metadata": {},
   "outputs": [
    {
     "name": "stdout",
     "output_type": "stream",
     "text": [
      "[1, 2, 3, 5, 6, 7, 8, 90, 11, 22]\n",
      "[1, 2, 3, 6, 7, 8, 90, 11, 22]\n"
     ]
    }
   ],
   "source": [
    "#remove\n",
    "o_p = [1,2,3,5,6,7,8,90,11,22]\n",
    "print(o_p)\n",
    "o_p.remove(5)\n",
    "print(o_p)"
   ]
  },
  {
   "cell_type": "code",
   "execution_count": 32,
   "id": "0339eabe",
   "metadata": {},
   "outputs": [
    {
     "name": "stdout",
     "output_type": "stream",
     "text": [
      "[1, 2, 3, 4, 6, 7, 8, 9, 0, 99, 99, 99, 99, 99]\n"
     ]
    }
   ],
   "source": [
    "#copy\n",
    "\n",
    "list2 = s_q.copy()\n",
    "print(list2)"
   ]
  },
  {
   "cell_type": "code",
   "execution_count": 43,
   "id": "9b3f647b",
   "metadata": {},
   "outputs": [
    {
     "name": "stdout",
     "output_type": "stream",
     "text": [
      "[1, 2, 3, 4, 6, 7, 8, 9, 0, 99, 99, 99, 99, 99, 12, 12, 12]\n",
      "[1, 2, 3, 4, 6, 7, 8, 9, 0, 99, 99, 99, 99, 99, 12, 12, 12, 12]\n",
      "[1, 2, 3, 4, 6, 7, 8, 9, 0, 99, 99, 99, 99, 99, 12, 12, 12, 12, 1, 2, 3, 5, 6, 7, 8, 90, 11, 22]\n"
     ]
    }
   ],
   "source": [
    "#extend\n",
    "print(s_q)\n",
    "s_q.extend([12])\n",
    "print(s_q)\n",
    "\n",
    "s_q.extend(o_p)\n",
    "print(s_q) "
   ]
  },
  {
   "cell_type": "code",
   "execution_count": 46,
   "id": "bf393ff8",
   "metadata": {},
   "outputs": [
    {
     "name": "stdout",
     "output_type": "stream",
     "text": [
      "[1, 200, 2, 3, 4, 6, 7, 8, 9, 0, 99, 99, 99, 99, 99, 12, 12, 12, 12, 1, 2, 3, 5, 6, 7, 8, 90, 11, 22]\n",
      "[1, 200, 200, 2, 3, 4, 6, 7, 8, 9, 0, 99, 99, 99, 99, 99, 12, 12, 12, 12, 1, 2, 3, 5, 6, 7, 8, 90, 11, 22]\n"
     ]
    }
   ],
   "source": [
    "#insert value (index,value)\n",
    "\n",
    "print(s_q)\n",
    "s_q.insert(1,200)\n",
    "print(s_q)\n"
   ]
  },
  {
   "cell_type": "code",
   "execution_count": 47,
   "id": "0dbd6de9",
   "metadata": {},
   "outputs": [
    {
     "name": "stdout",
     "output_type": "stream",
     "text": [
      "[1, 200, 200, 2, 3, 4, 6, 7, 8, 9, 0, 99, 99, 99, 99, 99, 12, 12, 12, 12, 1, 2, 3, 5, 6, 7, 8, 90, 11, 22]\n"
     ]
    }
   ],
   "source": [
    "print(s_q)"
   ]
  },
  {
   "cell_type": "code",
   "execution_count": 4,
   "id": "482239bd",
   "metadata": {},
   "outputs": [
    {
     "ename": "NameError",
     "evalue": "name 's_q' is not defined",
     "output_type": "error",
     "traceback": [
      "\u001b[1;31m---------------------------------------------------------------------------\u001b[0m",
      "\u001b[1;31mNameError\u001b[0m                                 Traceback (most recent call last)",
      "Cell \u001b[1;32mIn [4], line 3\u001b[0m\n\u001b[0;32m      1\u001b[0m \u001b[38;5;66;03m#pop & pop(value)\u001b[39;00m\n\u001b[1;32m----> 3\u001b[0m \u001b[38;5;28mprint\u001b[39m(\u001b[43ms_q\u001b[49m)\n",
      "\u001b[1;31mNameError\u001b[0m: name 's_q' is not defined"
     ]
    }
   ],
   "source": [
    "#pop & pop(value)\n",
    "\n",
    "print(s_q)\n",
    "\n",
    "\n",
    " \n"
   ]
  },
  {
   "cell_type": "code",
   "execution_count": 5,
   "id": "e60e2844",
   "metadata": {},
   "outputs": [],
   "source": [
    "# Program (1) \n",
    "\n",
    "#There is team of three team member (Ram, Sham, Ravi) after that Prem is replaced with Ram and\n",
    "# Rani is added to the team.\n",
    "\n",
    "# Program (2) \n",
    "\n",
    "#Then add Team A and Team B.(Gayatri, Vaishnavi, Poonam ) \n",
    "# write a program to suport the statment."
   ]
  },
  {
   "cell_type": "code",
   "execution_count": 1,
   "id": "962d4141",
   "metadata": {},
   "outputs": [
    {
     "name": "stdout",
     "output_type": "stream",
     "text": [
      "['prem', 'sham', 'ravi', 'rani']\n",
      "--------------\n",
      "['prem', 'sham', 'ravi', 'rani', 'gayatri', 'vaishnvai', 'poonam']\n"
     ]
    }
   ],
   "source": [
    "Team_a = [\"ram\",\"sham\",\"ravi\"]\n",
    "Team_a.remove(\"ram\")\n",
    "Team_a.insert(0,\"prem\")\n",
    "Team_a.append(\"rani\")\n",
    "print(Team_a)\n",
    "print(\"--------------\")\n",
    "\n",
    "Team_b = [\"gayatri\",\"vaishnvai\",\"poonam\"]\n",
    "Team_a.extend(Team_b)\n",
    "print(Team_a)\n"
   ]
  },
  {
   "cell_type": "code",
   "execution_count": 1,
   "id": "6d173016",
   "metadata": {},
   "outputs": [
    {
     "name": "stdout",
     "output_type": "stream",
     "text": [
      "['90', '22', '33', '44', '66', '55', '77', '88', '99', '91']\n"
     ]
    }
   ],
   "source": [
    "p_p = [\"90\",\"22\",\"33\",\"44\",\"66\",\"55\",\"77\",\"88\",\"99\",\"91\"]\n",
    "\n",
    "print(p_p)"
   ]
  },
  {
   "cell_type": "code",
   "execution_count": 5,
   "id": "e61ff7fe",
   "metadata": {},
   "outputs": [
    {
     "data": {
      "text/plain": [
       "'77'"
      ]
     },
     "execution_count": 5,
     "metadata": {},
     "output_type": "execute_result"
    }
   ],
   "source": [
    "p_p.pop(6)\n"
   ]
  },
  {
   "cell_type": "code",
   "execution_count": 9,
   "id": "f1604b15",
   "metadata": {},
   "outputs": [
    {
     "name": "stdout",
     "output_type": "stream",
     "text": [
      "['99', '88', '55', '66', '44', '33', '22', '90']\n",
      "['90', '22', '33', '44', '66', '55', '88', '99']\n"
     ]
    }
   ],
   "source": [
    "#reverse\n",
    "\n",
    "print(p_p)\n",
    "p_p.reverse()\n",
    "print(p_p)\n"
   ]
  },
  {
   "cell_type": "code",
   "execution_count": 21,
   "id": "6994a629",
   "metadata": {},
   "outputs": [
    {
     "name": "stdout",
     "output_type": "stream",
     "text": [
      "[1, 3, 6, 3, 8, 5, 9, 80, 67, 45]\n",
      "[80, 67, 45, 9, 8, 6, 5, 3, 3, 1]\n"
     ]
    }
   ],
   "source": [
    "#sort (reverse =True/false)\n",
    "o_o = [1,3,6,3,8,5,9,80,67,45]\n",
    "\n",
    "print(o_o)\n",
    "o_o.sort(reverse = True)\n",
    "print(o_o)\n",
    "\n",
    "\n"
   ]
  },
  {
   "cell_type": "code",
   "execution_count": null,
   "id": "9a16fe2f",
   "metadata": {},
   "outputs": [],
   "source": []
  }
 ],
 "metadata": {
  "kernelspec": {
   "display_name": "Python 3 (ipykernel)",
   "language": "python",
   "name": "python3"
  },
  "language_info": {
   "codemirror_mode": {
    "name": "ipython",
    "version": 3
   },
   "file_extension": ".py",
   "mimetype": "text/x-python",
   "name": "python",
   "nbconvert_exporter": "python",
   "pygments_lexer": "ipython3",
   "version": "3.11.0"
  }
 },
 "nbformat": 4,
 "nbformat_minor": 5
}
