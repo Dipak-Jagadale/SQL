{
 "cells": [
  {
   "cell_type": "markdown",
   "id": "91917b4e",
   "metadata": {},
   "source": [
    "### SQL End to End Oparations..."
   ]
  },
  {
   "cell_type": "markdown",
   "id": "0bc60462",
   "metadata": {},
   "source": [
    "## Data base"
   ]
  },
  {
   "cell_type": "markdown",
   "id": "23e0cfa8",
   "metadata": {},
   "source": [
    "### Database is collection of data in format that can be easily accessed (Digital) \n",
    "### A software application used to manage our DB is called DBMS (Database Management system)"
   ]
  },
  {
   "cell_type": "markdown",
   "id": "c4827218",
   "metadata": {},
   "source": [
    "### Description\n",
    "SQL is a special-purpose programming language designed for managing data in a relational database, \n",
    "and is used by a huge number of apps and organizations.\n",
    "\n",
    " In this course you'll learn the core concepts of the SQL programming language.\n",
    " You'll learn how to use SQL to store, query, and manipulate data. \n",
    "Learn how to request data from a server, limit and sort the responses, \n",
    "aggregate data from multiple tables with joins, and edit and delete data. \n",
    "\n",
    "We'll then show you the basics of creating tables and selecting data in various different ways.  \n",
    "You'll learn important concepts associated with relational databases. \n",
    "You will run SQL commands to create database tables and define data element types..\n",
    "\n",
    " By the end of this course you should have a good understanding of the SQL programming language. \n",
    "\n",
    "Who this course is for:\n",
    "Anyone interested in learning SQL and Databases"
   ]
  },
  {
   "cell_type": "markdown",
   "id": "425a26a9",
   "metadata": {},
   "source": [
    "# Create Table"
   ]
  },
  {
   "cell_type": "markdown",
   "id": "58473a6f",
   "metadata": {},
   "source": [
    "#### The CREAT TABLE statemet is used to creat a new in a database\n",
    "."
   ]
  },
  {
   "cell_type": "markdown",
   "id": "88ed4fc9",
   "metadata": {},
   "source": [
    "### Syntax :-\n",
    "             CREATE TABLE table_name\n",
    "             (\n",
    "                 column_name1 datatype contraint,\n",
    "                 column_name2 datatype contraint,\n",
    "                 column_name3 datatype contraint,\n",
    ");\n",
    "\n",
    "### Example :- \n",
    "              CREATE TABLE customer\n",
    "              (\n",
    "              \"ID\" int8 PRIMARY KEY,\n",
    "              \"NAME\" varchar(50) NOT NULL,\n",
    "              \"Age\" int NOT NULL,\n",
    "              \"city\" char(50),\n",
    "              \"salary\" numeric,\n",
    "              );\n",
    "              "
   ]
  },
  {
   "cell_type": "code",
   "execution_count": null,
   "id": "1dfa2933",
   "metadata": {},
   "outputs": [],
   "source": []
  }
 ],
 "metadata": {
  "kernelspec": {
   "display_name": "Python 3 (ipykernel)",
   "language": "python",
   "name": "python3"
  },
  "language_info": {
   "codemirror_mode": {
    "name": "ipython",
    "version": 3
   },
   "file_extension": ".py",
   "mimetype": "text/x-python",
   "name": "python",
   "nbconvert_exporter": "python",
   "pygments_lexer": "ipython3",
   "version": "3.11.2"
  }
 },
 "nbformat": 4,
 "nbformat_minor": 5
}
