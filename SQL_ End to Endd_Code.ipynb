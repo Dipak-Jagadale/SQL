{
 "cells": [
  {
   "cell_type": "markdown",
   "id": "91917b4e",
   "metadata": {},
   "source": [
    "### SQL End to End Oparations..."
   ]
  },
  {
   "cell_type": "markdown",
   "id": "0bc60462",
   "metadata": {},
   "source": [
    "## Data base"
   ]
  },
  {
   "cell_type": "markdown",
   "id": "23e0cfa8",
   "metadata": {},
   "source": [
    "### Database is collection of data in format that can be easily accessed (Digital) \n",
    "### A software application used to manage our DB is called DBMS (Database Management system)"
   ]
  },
  {
   "cell_type": "code",
   "execution_count": null,
   "id": "7ac81ccb",
   "metadata": {},
   "outputs": [],
   "source": []
  }
 ],
 "metadata": {
  "kernelspec": {
   "display_name": "Python 3 (ipykernel)",
   "language": "python",
   "name": "python3"
  },
  "language_info": {
   "codemirror_mode": {
    "name": "ipython",
    "version": 3
   },
   "file_extension": ".py",
   "mimetype": "text/x-python",
   "name": "python",
   "nbconvert_exporter": "python",
   "pygments_lexer": "ipython3",
   "version": "3.11.2"
  }
 },
 "nbformat": 4,
 "nbformat_minor": 5
}
