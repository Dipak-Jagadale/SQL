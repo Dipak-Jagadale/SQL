{
 "cells": [
  {
   "cell_type": "markdown",
   "id": "fe3bdcb6",
   "metadata": {},
   "source": [
    "# Practice "
   ]
  },
  {
   "cell_type": "code",
   "execution_count": 1,
   "id": "0a890d29",
   "metadata": {},
   "outputs": [
    {
     "name": "stdout",
     "output_type": "stream",
     "text": [
      "77\n"
     ]
    }
   ],
   "source": [
    "A = 32 \n",
    "b = 45\n",
    "print(A+b)\n",
    "\n",
    "\n"
   ]
  },
  {
   "cell_type": "code",
   "execution_count": null,
   "id": "f7509222",
   "metadata": {},
   "outputs": [],
   "source": [
    "s = 15\n",
    "m = 10\n",
    "\n",
    "W = s + m\n",
    "X = s - m\n",
    "Y = s / m\n",
    "Z = s * m\n",
    "\n",
    "choice = input(\"Enter your Choice: W, X, Y, Z: \")\n",
    "\n",
    "if choice == 'W':\n",
    "    print(\"W =\", W)\n",
    "elif choice == 'X':\n",
    "    print(\"X =\", X)\n",
    "elif choice == 'Y':\n",
    "    print(\"Y =\", Y)\n",
    "elif choice == 'Z':\n",
    "    print(\"Z =\", Z)\n",
    "else:\n",
    "    print(\"Invalid choice. Please enter W, X, Y, or Z.\")\n"
   ]
  },
  {
   "cell_type": "markdown",
   "id": "ce77e044",
   "metadata": {},
   "source": [
    "# Operaters"
   ]
  },
  {
   "cell_type": "markdown",
   "id": "9011c974",
   "metadata": {},
   "source": [
    "1)Arthmatic opraters\n",
    "2)comparision opraters\n",
    "3)logical Opraterss\n",
    "4)logical opraters\n",
    "5)bitwise opraters\n",
    "6)assignment opraters\n",
    "7)identity opraters\n",
    "8)membership opraters"
   ]
  },
  {
   "cell_type": "markdown",
   "id": "6f92a4a8",
   "metadata": {},
   "source": [
    "# Arthmatic operaters\n"
   ]
  },
  {
   "cell_type": "code",
   "execution_count": null,
   "id": "8bd6b273",
   "metadata": {},
   "outputs": [],
   "source": [
    "a = 9\n",
    "b = 4\n",
    "print(a*b)\n",
    "print(a-b)\n",
    "print(a/b)\n",
    "print(a+b)"
   ]
  },
  {
   "cell_type": "code",
   "execution_count": null,
   "id": "be88c427",
   "metadata": {},
   "outputs": [],
   "source": [
    "print(15+24)"
   ]
  },
  {
   "cell_type": "code",
   "execution_count": null,
   "id": "430d97e3",
   "metadata": {},
   "outputs": [],
   "source": [
    "print(45-90)\n",
    "print(78-34)"
   ]
  },
  {
   "cell_type": "code",
   "execution_count": null,
   "id": "a5dd81d3",
   "metadata": {},
   "outputs": [],
   "source": [
    "print(a%b)"
   ]
  },
  {
   "cell_type": "code",
   "execution_count": null,
   "id": "c3776c26",
   "metadata": {},
   "outputs": [],
   "source": [
    "print(a**b)"
   ]
  },
  {
   "cell_type": "code",
   "execution_count": null,
   "id": "9372523d",
   "metadata": {},
   "outputs": [],
   "source": [
    "print(a // b)"
   ]
  },
  {
   "cell_type": "code",
   "execution_count": null,
   "id": "edbbea48",
   "metadata": {},
   "outputs": [],
   "source": [
    "print(a < b)"
   ]
  },
  {
   "cell_type": "code",
   "execution_count": null,
   "id": "13209d18",
   "metadata": {},
   "outputs": [],
   "source": [
    "print (a>b)"
   ]
  },
  {
   "cell_type": "code",
   "execution_count": null,
   "id": "646882ec",
   "metadata": {},
   "outputs": [],
   "source": [
    "print(a>=b)"
   ]
  },
  {
   "cell_type": "code",
   "execution_count": null,
   "id": "b10c8990",
   "metadata": {},
   "outputs": [],
   "source": [
    "print (a<=b)"
   ]
  },
  {
   "cell_type": "code",
   "execution_count": null,
   "id": "1e8038b3",
   "metadata": {},
   "outputs": [],
   "source": [
    "print(a == b)"
   ]
  },
  {
   "cell_type": "code",
   "execution_count": null,
   "id": "85e4a773",
   "metadata": {},
   "outputs": [],
   "source": [
    "print(a != b)"
   ]
  },
  {
   "cell_type": "markdown",
   "id": "7a435748",
   "metadata": {},
   "source": [
    "### Logical operaters"
   ]
  },
  {
   "cell_type": "markdown",
   "id": "e0c3f738",
   "metadata": {},
   "source": [
    "# *AND*\n",
    "# *OR*\n",
    "# *NOT*"
   ]
  },
  {
   "cell_type": "code",
   "execution_count": null,
   "id": "900c3d8b",
   "metadata": {},
   "outputs": [],
   "source": [
    "x =True\n",
    "y = False\n",
    "\n",
    "print( x and y)\n"
   ]
  },
  {
   "cell_type": "code",
   "execution_count": null,
   "id": "c65022a2",
   "metadata": {},
   "outputs": [],
   "source": [
    "print(x or y)\n"
   ]
  },
  {
   "cell_type": "code",
   "execution_count": null,
   "id": "1bdbd8ef",
   "metadata": {},
   "outputs": [],
   "source": [
    "print( not y)"
   ]
  },
  {
   "cell_type": "markdown",
   "id": "0a7c0ea8",
   "metadata": {},
   "source": [
    "### Bitwise Operators"
   ]
  },
  {
   "cell_type": "code",
   "execution_count": null,
   "id": "6354cf18",
   "metadata": {},
   "outputs": [],
   "source": [
    "x = 8 \n",
    "y = 9\n",
    "print(x & y)"
   ]
  },
  {
   "cell_type": "code",
   "execution_count": null,
   "id": "ac598740",
   "metadata": {},
   "outputs": [],
   "source": [
    "print ( x | y)"
   ]
  },
  {
   "cell_type": "code",
   "execution_count": null,
   "id": "50dc38f2",
   "metadata": {},
   "outputs": [],
   "source": [
    "print(x >> 9)"
   ]
  },
  {
   "cell_type": "code",
   "execution_count": null,
   "id": "fdfc113e",
   "metadata": {},
   "outputs": [],
   "source": [
    "print (y >> 3 )"
   ]
  },
  {
   "cell_type": "code",
   "execution_count": null,
   "id": "f2e4e4fe",
   "metadata": {},
   "outputs": [],
   "source": [
    "input(prompt = \"Dipak\")"
   ]
  },
  {
   "cell_type": "code",
   "execution_count": null,
   "id": "3e4adf93",
   "metadata": {},
   "outputs": [],
   "source": [
    "input()"
   ]
  },
  {
   "cell_type": "code",
   "execution_count": null,
   "id": "a8d3b719",
   "metadata": {},
   "outputs": [],
   "source": [
    "First_number = int(input(\"first number\"))\n",
    "Second_number = int(input(\"second number\"))\n",
    "\n",
    "print(First_number)\n",
    "print(Second_number)"
   ]
  },
  {
   "cell_type": "code",
   "execution_count": null,
   "id": "4a0b3635",
   "metadata": {},
   "outputs": [],
   "source": [
    "#implicit\n",
    "#explicit"
   ]
  },
  {
   "cell_type": "code",
   "execution_count": null,
   "id": "0f74e0c8",
   "metadata": {},
   "outputs": [],
   "source": [
    "type(4 + 5.5)\n",
    "4 + 5.5\n"
   ]
  },
  {
   "cell_type": "code",
   "execution_count": null,
   "id": "bfd46ab2",
   "metadata": {},
   "outputs": [],
   "source": [
    "4 + 4.9 + 4j"
   ]
  },
  {
   "cell_type": "code",
   "execution_count": null,
   "id": "cecd77f9",
   "metadata": {},
   "outputs": [],
   "source": [
    "2.9 + 9.4 + 6.8j"
   ]
  },
  {
   "cell_type": "code",
   "execution_count": null,
   "id": "7b198ec8",
   "metadata": {},
   "outputs": [],
   "source": [
    "# int \n",
    "\n",
    "int(\"99\")"
   ]
  },
  {
   "cell_type": "code",
   "execution_count": null,
   "id": "e159e4c9",
   "metadata": {},
   "outputs": [],
   "source": [
    "float('4')"
   ]
  },
  {
   "cell_type": "code",
   "execution_count": null,
   "id": "85d30964",
   "metadata": {},
   "outputs": [],
   "source": [
    "str(1)"
   ]
  },
  {
   "cell_type": "code",
   "execution_count": null,
   "id": "1508bf10",
   "metadata": {},
   "outputs": [],
   "source": [
    "bool(0)"
   ]
  },
  {
   "cell_type": "code",
   "execution_count": null,
   "id": "21d432b6",
   "metadata": {},
   "outputs": [],
   "source": [
    "bool(9)"
   ]
  },
  {
   "cell_type": "code",
   "execution_count": null,
   "id": "ffa192b7",
   "metadata": {},
   "outputs": [],
   "source": [
    "bool(9.6)"
   ]
  },
  {
   "cell_type": "markdown",
   "id": "82f99800",
   "metadata": {},
   "source": [
    "### Stirng Literels"
   ]
  },
  {
   "cell_type": "code",
   "execution_count": null,
   "id": "df571321",
   "metadata": {},
   "outputs": [],
   "source": [
    "string = \"this is python\"\n",
    "strings = \"this is python\"\n",
    "char = \"c\"\n",
    "\n",
    "multiline_str  = \"\"\"This is multiline stirng more than one line\"\"\"\n",
    "unicode = U\"\\U0001f600\\U0001f606\\U0001f923\"\n",
    "raw_str = r\"raw \\n  string\"\n",
    "\n",
    "\n",
    "print(string)\n",
    "print(strings)\n",
    "print(char)\n",
    "print(multiline_str)\n",
    "print(unicode)\n",
    "print(raw_str)"
   ]
  },
  {
   "cell_type": "markdown",
   "id": "0c011cf1",
   "metadata": {},
   "source": [
    "### Boolean Literal"
   ]
  },
  {
   "cell_type": "code",
   "execution_count": null,
   "id": "40fa9440",
   "metadata": {},
   "outputs": [],
   "source": [
    "a = True + 5\n",
    "b = False + 9\n",
    "\n",
    "print(\"a:\", a)\n",
    "print(\"b:\", b)"
   ]
  },
  {
   "cell_type": "markdown",
   "id": "12357e31",
   "metadata": {},
   "source": [
    "###  Special Literal"
   ]
  },
  {
   "cell_type": "code",
   "execution_count": null,
   "id": "ac7c6310",
   "metadata": {},
   "outputs": [],
   "source": [
    "p = None\n",
    "print(p)"
   ]
  },
  {
   "cell_type": "code",
   "execution_count": null,
   "id": "30761055",
   "metadata": {},
   "outputs": [],
   "source": [
    "p = 45+ 54\n",
    "print(p)"
   ]
  },
  {
   "cell_type": "code",
   "execution_count": null,
   "id": "cf184026",
   "metadata": {},
   "outputs": [],
   "source": [
    "# variable diclaration\n",
    "\n",
    "p = None"
   ]
  },
  {
   "cell_type": "markdown",
   "id": "b7a339c0",
   "metadata": {},
   "source": [
    "# Oprataers"
   ]
  },
  {
   "cell_type": "code",
   "execution_count": null,
   "id": "269d8b4f",
   "metadata": {},
   "outputs": [],
   "source": []
  },
  {
   "cell_type": "markdown",
   "id": "a8e7507e",
   "metadata": {},
   "source": [
    "### If-Else  Statement"
   ]
  },
  {
   "cell_type": "code",
   "execution_count": null,
   "id": "b22df366",
   "metadata": {},
   "outputs": [],
   "source": [
    "# emailid - dipakjagadale@gmail.com\n",
    "# password - 1234\n",
    "\n",
    "mailid = input(\"Mail id\")\n",
    "password = input(\"password\")\n",
    "\n",
    "if mailid == dipakjagadale@gmail.com and password == 1234:\n",
    "    print(\"welcome\")\n",
    "else:     \n",
    "    print(\"incorrect credintials\")"
   ]
  },
  {
   "cell_type": "code",
   "execution_count": 33,
   "id": "bf36cbf2",
   "metadata": {},
   "outputs": [
    {
     "ename": "IndentationError",
     "evalue": "unindent does not match any outer indentation level (<tokenize>, line 13)",
     "output_type": "error",
     "traceback": [
      "\u001b[1;36m  File \u001b[1;32m<tokenize>:13\u001b[1;36m\u001b[0m\n\u001b[1;33m    if password == \"1234\":\u001b[0m\n\u001b[1;37m    ^\u001b[0m\n\u001b[1;31mIndentationError\u001b[0m\u001b[1;31m:\u001b[0m unindent does not match any outer indentation level\n"
     ]
    }
   ],
   "source": [
    "# emailid - dipakjagadale@gmail.com\n",
    "# password - 1234\n",
    "\n",
    "emailid = input(\"emailid\")\n",
    "if '@' in emailid:\n",
    "    password = input (\"Correct password\")\n",
    "\n",
    "    if emailid == \"dipakjagadale@gmail.com\" and password == \"1234\":\n",
    "        print(\"welcome\")\n",
    "    elif emailid == 'dipakjagadale@gmail.com' and password != \"1234\":\n",
    "         print(\"password incorrect\")\n",
    "            password = input(\"Reenter password\")\n",
    "        if password == \"1234\":\n",
    "             print(\"Finally corect\")\n",
    "        else :\n",
    "             print(\"Still incorrect\")\n",
    "    else:\n",
    "        print(\"incorrect creditials\")\n",
    "        \n",
    "else:\n",
    "    print(\"Incorrect email\")\n",
    "        "
   ]
  },
  {
   "cell_type": "markdown",
   "id": "549f333b",
   "metadata": {},
   "source": [
    "### String"
   ]
  },
  {
   "cell_type": "markdown",
   "id": "064c411e",
   "metadata": {},
   "source": [
    "## common Fuction\n",
    "### len\n",
    "### max\n",
    "### mean\n",
    "### fuction"
   ]
  },
  {
   "cell_type": "code",
   "execution_count": 2,
   "id": "f171bef5",
   "metadata": {},
   "outputs": [
    {
     "data": {
      "text/plain": [
       "5"
      ]
     },
     "execution_count": 2,
     "metadata": {},
     "output_type": "execute_result"
    }
   ],
   "source": [
    "c = \"Dipak\"\n",
    "len (c)"
   ]
  },
  {
   "cell_type": "code",
   "execution_count": 3,
   "id": "32233b62",
   "metadata": {},
   "outputs": [
    {
     "data": {
      "text/plain": [
       "'p'"
      ]
     },
     "execution_count": 3,
     "metadata": {},
     "output_type": "execute_result"
    }
   ],
   "source": [
    "max (c)\n"
   ]
  },
  {
   "cell_type": "code",
   "execution_count": 4,
   "id": "0a48d5ee",
   "metadata": {},
   "outputs": [
    {
     "data": {
      "text/plain": [
       "'D'"
      ]
     },
     "execution_count": 4,
     "metadata": {},
     "output_type": "execute_result"
    }
   ],
   "source": [
    "min (c)"
   ]
  },
  {
   "cell_type": "code",
   "execution_count": 7,
   "id": "85b2ad67",
   "metadata": {},
   "outputs": [
    {
     "data": {
      "text/plain": [
       "['p', 'k', 'i', 'a', 'D']"
      ]
     },
     "execution_count": 7,
     "metadata": {},
     "output_type": "execute_result"
    }
   ],
   "source": [
    "sorted(c,reverse = True)"
   ]
  },
  {
   "cell_type": "markdown",
   "id": "6cb1b679",
   "metadata": {},
   "source": [
    "### 1.Capitalize/Title/Upper/Lower/swapcase"
   ]
  },
  {
   "cell_type": "code",
   "execution_count": 9,
   "id": "385a047c",
   "metadata": {},
   "outputs": [
    {
     "data": {
      "text/plain": [
       "'It is raining today'"
      ]
     },
     "execution_count": 9,
     "metadata": {},
     "output_type": "execute_result"
    }
   ],
   "source": [
    "\"it is raining today\".capitalize()"
   ]
  },
  {
   "cell_type": "code",
   "execution_count": 13,
   "id": "6b257252",
   "metadata": {},
   "outputs": [
    {
     "data": {
      "text/plain": [
       "'It Is Raining Today'"
      ]
     },
     "execution_count": 13,
     "metadata": {},
     "output_type": "execute_result"
    }
   ],
   "source": [
    "\"it is raining today\" . title()"
   ]
  },
  {
   "cell_type": "code",
   "execution_count": 15,
   "id": "1251123a",
   "metadata": {},
   "outputs": [
    {
     "data": {
      "text/plain": [
       "'dipak'"
      ]
     },
     "execution_count": 15,
     "metadata": {},
     "output_type": "execute_result"
    }
   ],
   "source": [
    "c.upper().lower()"
   ]
  },
  {
   "cell_type": "code",
   "execution_count": 16,
   "id": "e15de5f3",
   "metadata": {},
   "outputs": [
    {
     "data": {
      "text/plain": [
       "'KOLKATA'"
      ]
     },
     "execution_count": 16,
     "metadata": {},
     "output_type": "execute_result"
    }
   ],
   "source": [
    "\"kolkata\".swapcase()"
   ]
  },
  {
   "cell_type": "markdown",
   "id": "b3f845b5",
   "metadata": {},
   "source": [
    "# 2. count\n",
    "\n"
   ]
  },
  {
   "cell_type": "code",
   "execution_count": 19,
   "id": "7d1bd4e3",
   "metadata": {},
   "outputs": [
    {
     "data": {
      "text/plain": [
       "2"
      ]
     },
     "execution_count": 19,
     "metadata": {},
     "output_type": "execute_result"
    }
   ],
   "source": [
    "\"it is raining\".count(\"n\")"
   ]
  },
  {
   "cell_type": "markdown",
   "id": "9247bbaf",
   "metadata": {},
   "source": [
    "### 3 .Find/index"
   ]
  },
  {
   "cell_type": "code",
   "execution_count": 21,
   "id": "6200787b",
   "metadata": {},
   "outputs": [
    {
     "data": {
      "text/plain": [
       "9"
      ]
     },
     "execution_count": 21,
     "metadata": {},
     "output_type": "execute_result"
    }
   ],
   "source": [
    "\"it is raining\". index(\"n\")"
   ]
  },
  {
   "cell_type": "markdown",
   "id": "841e34ac",
   "metadata": {},
   "source": [
    "### 4.Endswith/startswith"
   ]
  },
  {
   "cell_type": "code",
   "execution_count": 27,
   "id": "19203c8d",
   "metadata": {},
   "outputs": [
    {
     "data": {
      "text/plain": [
       "True"
      ]
     },
     "execution_count": 27,
     "metadata": {},
     "output_type": "execute_result"
    }
   ],
   "source": [
    "\"it is raining\" .endswith(\"raining\")"
   ]
  },
  {
   "cell_type": "code",
   "execution_count": 26,
   "id": "5b1e3e07",
   "metadata": {},
   "outputs": [
    {
     "data": {
      "text/plain": [
       "False"
      ]
     },
     "execution_count": 26,
     "metadata": {},
     "output_type": "execute_result"
    }
   ],
   "source": [
    "\"it is raining \". startswith(\"t\")"
   ]
  },
  {
   "cell_type": "markdown",
   "id": "dd6ddfb0",
   "metadata": {},
   "source": [
    "### 5. Format"
   ]
  },
  {
   "cell_type": "code",
   "execution_count": 28,
   "id": "0a9dacf2",
   "metadata": {},
   "outputs": [
    {
     "data": {
      "text/plain": [
       "'Hello my name is Dipak and i am 30'"
      ]
     },
     "execution_count": 28,
     "metadata": {},
     "output_type": "execute_result"
    }
   ],
   "source": [
    "\"Hello my name is {} and i am {}\". format(\"Dipak\",30)"
   ]
  },
  {
   "cell_type": "code",
   "execution_count": 29,
   "id": "4b557c6b",
   "metadata": {},
   "outputs": [
    {
     "data": {
      "text/plain": [
       "'Hello my name is Dipak and i am 30'"
      ]
     },
     "execution_count": 29,
     "metadata": {},
     "output_type": "execute_result"
    }
   ],
   "source": [
    "\"Hello my name is {} and i am {}\". format(\"Dipak\",30)"
   ]
  },
  {
   "cell_type": "code",
   "execution_count": 50,
   "id": "a2723df5",
   "metadata": {},
   "outputs": [
    {
     "name": "stdout",
     "output_type": "stream",
     "text": [
      "['i', 'am', 'a', 'new', 'data', 'scientist']\n"
     ]
    }
   ],
   "source": [
    "str1 = \"i am a new data scientist\"\n",
    "str2 = str1.split(\" \")\n",
    "print(str2)\n",
    "\n",
    "\n"
   ]
  },
  {
   "cell_type": "code",
   "execution_count": 42,
   "id": "7609e6ad",
   "metadata": {},
   "outputs": [
    {
     "name": "stdout",
     "output_type": "stream",
     "text": [
      "['Hello,World,How,Are,You']\n"
     ]
    }
   ],
   "source": [
    "# Splitting a string using a space as the delimiter\n",
    "sentence = \"Hello,World,How,Are,You\"\n",
    "words = sentence.split (\" \")\n",
    "print(words)"
   ]
  },
  {
   "cell_type": "code",
   "execution_count": null,
   "id": "0144a8f4",
   "metadata": {},
   "outputs": [],
   "source": [
    "Numpy:\n",
    "Numpy- is a Numerical Python\n",
    "\n",
    "It is developed by Travis Oliphant in 2005\n",
    "\n",
    "Numpy has functions to work on linear algebra, fourier transform, and matrices\n",
    "\n",
    "Its basically used to work with array, It can work with multidimentional Arrays\n",
    "\n",
    "Why:\n",
    "Numpy is built using python, and most of the part which requires fatser execution is developed using c or c++,So it is very fast in execution.\n",
    "\n",
    "Numpy arrays are called as ndarray\n",
    "\n",
    "Numpy has 50x speed as compared to python list, because NumPy is faster than lists because it uses vectorized operations, optimized C code, memory efficiency, and cache efficiency. These features allow NumPy to perform calculations on large amounts of data more quickly and efficiently than lists.\n",
    "\n",
    "Numpy provides lots of functions which can be performed on large data\n",
    "\n",
    "Numpy gives faster response as compared to list as it stores numpy arrays at one continuous location whereas lists are stored in scattered locations"
   ]
  },
  {
   "cell_type": "code",
   "execution_count": 46,
   "id": "249c3cd1",
   "metadata": {},
   "outputs": [
    {
     "name": "stdout",
     "output_type": "stream",
     "text": [
      "['False', 'None', 'True', 'and', 'as', 'assert', 'async', 'await', 'break', 'class', 'continue', 'def', 'del', 'elif', 'else', 'except', 'finally', 'for', 'from', 'global', 'if', 'import', 'in', 'is', 'lambda', 'nonlocal', 'not', 'or', 'pass', 'raise', 'return', 'try', 'while', 'with', 'yield']\n"
     ]
    },
    {
     "data": {
      "text/plain": [
       "35"
      ]
     },
     "execution_count": 46,
     "metadata": {},
     "output_type": "execute_result"
    }
   ],
   "source": [
    "import keyword\n",
    "print(keyword.kwlist)\n",
    "len(keyword.kwlist)"
   ]
  },
  {
   "cell_type": "code",
   "execution_count": 51,
   "id": "850bcd78",
   "metadata": {},
   "outputs": [
    {
     "data": {
      "text/plain": [
       "'i$am$a$new$data$scientist'"
      ]
     },
     "execution_count": 51,
     "metadata": {},
     "output_type": "execute_result"
    }
   ],
   "source": [
    "\"$\".join(str2)"
   ]
  },
  {
   "cell_type": "code",
   "execution_count": 52,
   "id": "d73eef3d",
   "metadata": {},
   "outputs": [
    {
     "data": {
      "text/plain": [
       "'i am a new data scientist'"
      ]
     },
     "execution_count": 52,
     "metadata": {},
     "output_type": "execute_result"
    }
   ],
   "source": [
    "str1"
   ]
  },
  {
   "cell_type": "code",
   "execution_count": 60,
   "id": "e978583e",
   "metadata": {},
   "outputs": [
    {
     "data": {
      "text/plain": [
       "'I Am A New Data Scientist'"
      ]
     },
     "execution_count": 60,
     "metadata": {},
     "output_type": "execute_result"
    }
   ],
   "source": [
    "str1.title()"
   ]
  },
  {
   "cell_type": "code",
   "execution_count": 61,
   "id": "df90ac7b",
   "metadata": {},
   "outputs": [
    {
     "data": {
      "text/plain": [
       "'i am a new data scientist'"
      ]
     },
     "execution_count": 61,
     "metadata": {},
     "output_type": "execute_result"
    }
   ],
   "source": [
    "str1"
   ]
  },
  {
   "cell_type": "code",
   "execution_count": 62,
   "id": "e17e69a4",
   "metadata": {},
   "outputs": [
    {
     "data": {
      "text/plain": [
       "'I am a new data scIentIst'"
      ]
     },
     "execution_count": 62,
     "metadata": {},
     "output_type": "execute_result"
    }
   ],
   "source": [
    "str1.replace(\"i\",\"I\")"
   ]
  },
  {
   "cell_type": "code",
   "execution_count": null,
   "id": "9b267123",
   "metadata": {},
   "outputs": [],
   "source": []
  },
  {
   "cell_type": "code",
   "execution_count": 63,
   "id": "9219716b",
   "metadata": {},
   "outputs": [],
   "source": [
    "import numpy as np\n"
   ]
  },
  {
   "cell_type": "code",
   "execution_count": 65,
   "id": "4d22578b",
   "metadata": {},
   "outputs": [
    {
     "data": {
      "text/plain": [
       "'1.24.2'"
      ]
     },
     "execution_count": 65,
     "metadata": {},
     "output_type": "execute_result"
    }
   ],
   "source": [
    "np.__version__\n"
   ]
  },
  {
   "cell_type": "markdown",
   "id": "d9274faa",
   "metadata": {},
   "source": [
    "### Array:  collection of similar data type"
   ]
  },
  {
   "cell_type": "code",
   "execution_count": 4,
   "id": "89776607",
   "metadata": {},
   "outputs": [],
   "source": [
    "import numpy as np"
   ]
  },
  {
   "cell_type": "code",
   "execution_count": null,
   "id": "12aea1af",
   "metadata": {},
   "outputs": [],
   "source": []
  },
  {
   "cell_type": "code",
   "execution_count": 6,
   "id": "94a5b5f5",
   "metadata": {},
   "outputs": [
    {
     "name": "stdout",
     "output_type": "stream",
     "text": [
      "[1 2 3 4 5 6 7]\n"
     ]
    }
   ],
   "source": [
    "arr = np.array([1,2,3,4,5,6,7])\n",
    "print(arr)"
   ]
  },
  {
   "cell_type": "code",
   "execution_count": 8,
   "id": "f77cc764",
   "metadata": {},
   "outputs": [
    {
     "data": {
      "text/plain": [
       "array([[1],\n",
       "       [2],\n",
       "       [3],\n",
       "       [4],\n",
       "       [5],\n",
       "       [6],\n",
       "       [7]])"
      ]
     },
     "execution_count": 8,
     "metadata": {},
     "output_type": "execute_result"
    }
   ],
   "source": [
    "arr1 = arr.reshape(7,1)\n",
    "arr1\n"
   ]
  },
  {
   "cell_type": "code",
   "execution_count": 16,
   "id": "b1796b0d",
   "metadata": {},
   "outputs": [
    {
     "data": {
      "text/plain": [
       "array([ 0,  1,  2,  3,  4,  5,  6,  7,  8,  9, 10, 11, 12, 13, 14])"
      ]
     },
     "execution_count": 16,
     "metadata": {},
     "output_type": "execute_result"
    }
   ],
   "source": [
    "arr2 = np.arange(15)\n",
    "arr2"
   ]
  },
  {
   "cell_type": "code",
   "execution_count": 21,
   "id": "15fd6686",
   "metadata": {},
   "outputs": [
    {
     "data": {
      "text/plain": [
       "array([[ 0,  1,  2,  3,  4],\n",
       "       [ 5,  6,  7,  8,  9],\n",
       "       [10, 11, 12, 13, 14]])"
      ]
     },
     "execution_count": 21,
     "metadata": {},
     "output_type": "execute_result"
    }
   ],
   "source": [
    "arr2.reshape(5,3)\n",
    "arr2.reshape(3,5)"
   ]
  },
  {
   "cell_type": "code",
   "execution_count": 23,
   "id": "95b80344",
   "metadata": {},
   "outputs": [
    {
     "data": {
      "text/plain": [
       "(array([1, 2, 3, 4, 5]), 1)"
      ]
     },
     "execution_count": 23,
     "metadata": {},
     "output_type": "execute_result"
    }
   ],
   "source": [
    "arrr = np.array([1,2,3,4,5])\n",
    "arrr, arrr.ndim"
   ]
  },
  {
   "cell_type": "code",
   "execution_count": 24,
   "id": "f9d4c7d8",
   "metadata": {},
   "outputs": [
    {
     "data": {
      "text/plain": [
       "(array([[1, 2, 3]]), 2)"
      ]
     },
     "execution_count": 24,
     "metadata": {},
     "output_type": "execute_result"
    }
   ],
   "source": [
    "arr5 = np.array([[1,2,3]])\n",
    "arr5,arr5.ndim"
   ]
  },
  {
   "cell_type": "code",
   "execution_count": null,
   "id": "2736b156",
   "metadata": {},
   "outputs": [],
   "source": []
  }
 ],
 "metadata": {
  "kernelspec": {
   "display_name": "Python 3 (ipykernel)",
   "language": "python",
   "name": "python3"
  },
  "language_info": {
   "codemirror_mode": {
    "name": "ipython",
    "version": 3
   },
   "file_extension": ".py",
   "mimetype": "text/x-python",
   "name": "python",
   "nbconvert_exporter": "python",
   "pygments_lexer": "ipython3",
   "version": "3.11.2"
  }
 },
 "nbformat": 4,
 "nbformat_minor": 5
}
