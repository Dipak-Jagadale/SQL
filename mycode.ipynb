{
 "cells": [
  {
   "cell_type": "markdown",
   "id": "fe3bdcb6",
   "metadata": {},
   "source": [
    "# Practice "
   ]
  },
  {
   "cell_type": "code",
   "execution_count": 2,
   "id": "0a890d29",
   "metadata": {},
   "outputs": [
    {
     "name": "stdout",
     "output_type": "stream",
     "text": [
      "77\n"
     ]
    }
   ],
   "source": [
    "A = 32 \n",
    "b = 45\n",
    "print(A+b)\n",
    "\n",
    "\n"
   ]
  },
  {
   "cell_type": "code",
   "execution_count": 5,
   "id": "f7509222",
   "metadata": {},
   "outputs": [
    {
     "name": "stdout",
     "output_type": "stream",
     "text": [
      "Enter your Choice: W, X, Y, Z: S\n",
      "Invalid choice. Please enter W, X, Y, or Z.\n"
     ]
    }
   ],
   "source": [
    "s = 15\n",
    "m = 10\n",
    "\n",
    "W = s + m\n",
    "X = s - m\n",
    "Y = s / m\n",
    "Z = s * m\n",
    "\n",
    "choice = input(\"Enter your Choice: W, X, Y, Z: \")\n",
    "\n",
    "if choice == 'W':\n",
    "    print(\"W =\", W)\n",
    "elif choice == 'X':\n",
    "    print(\"X =\", X)\n",
    "elif choice == 'Y':\n",
    "    print(\"Y =\", Y)\n",
    "elif choice == 'Z':\n",
    "    print(\"Z =\", Z)\n",
    "else:\n",
    "    print(\"Invalid choice. Please enter W, X, Y, or Z.\")\n"
   ]
  },
  {
   "cell_type": "markdown",
   "id": "ce77e044",
   "metadata": {},
   "source": [
    "# Operaters"
   ]
  },
  {
   "cell_type": "markdown",
   "id": "9011c974",
   "metadata": {},
   "source": [
    "1)Arthmatic opraters\n",
    "2)comparision opraters\n",
    "3)logical Opraterss\n",
    "4)logical opraters\n",
    "5)bitwise opraters\n",
    "6)assignment opraters\n",
    "7)identity opraters\n",
    "8)membership opraters"
   ]
  },
  {
   "cell_type": "markdown",
   "id": "6f92a4a8",
   "metadata": {},
   "source": [
    "# Arthmatic operaters\n"
   ]
  },
  {
   "cell_type": "code",
   "execution_count": 2,
   "id": "8bd6b273",
   "metadata": {},
   "outputs": [
    {
     "name": "stdout",
     "output_type": "stream",
     "text": [
      "36\n",
      "5\n",
      "2.25\n",
      "13\n"
     ]
    }
   ],
   "source": [
    "a = 9\n",
    "b = 4\n",
    "print(a*b)\n",
    "print(a-b)\n",
    "print(a/b)\n",
    "print(a+b)"
   ]
  },
  {
   "cell_type": "code",
   "execution_count": 3,
   "id": "be88c427",
   "metadata": {},
   "outputs": [
    {
     "name": "stdout",
     "output_type": "stream",
     "text": [
      "39\n"
     ]
    }
   ],
   "source": [
    "print(15+24)"
   ]
  },
  {
   "cell_type": "code",
   "execution_count": 4,
   "id": "430d97e3",
   "metadata": {},
   "outputs": [
    {
     "name": "stdout",
     "output_type": "stream",
     "text": [
      "-45\n",
      "44\n"
     ]
    }
   ],
   "source": [
    "print(45-90)\n",
    "print(78-34)"
   ]
  },
  {
   "cell_type": "code",
   "execution_count": 5,
   "id": "a5dd81d3",
   "metadata": {},
   "outputs": [
    {
     "name": "stdout",
     "output_type": "stream",
     "text": [
      "1\n"
     ]
    }
   ],
   "source": [
    "print(a%b)"
   ]
  },
  {
   "cell_type": "code",
   "execution_count": 6,
   "id": "c3776c26",
   "metadata": {},
   "outputs": [
    {
     "name": "stdout",
     "output_type": "stream",
     "text": [
      "6561\n"
     ]
    }
   ],
   "source": [
    "print(a**b)"
   ]
  },
  {
   "cell_type": "code",
   "execution_count": 7,
   "id": "9372523d",
   "metadata": {},
   "outputs": [
    {
     "name": "stdout",
     "output_type": "stream",
     "text": [
      "2\n"
     ]
    }
   ],
   "source": [
    "print(a // b)"
   ]
  },
  {
   "cell_type": "code",
   "execution_count": 8,
   "id": "edbbea48",
   "metadata": {},
   "outputs": [
    {
     "name": "stdout",
     "output_type": "stream",
     "text": [
      "False\n"
     ]
    }
   ],
   "source": [
    "print(a < b)"
   ]
  },
  {
   "cell_type": "code",
   "execution_count": 9,
   "id": "13209d18",
   "metadata": {},
   "outputs": [
    {
     "name": "stdout",
     "output_type": "stream",
     "text": [
      "True\n"
     ]
    }
   ],
   "source": [
    "print (a>b)"
   ]
  },
  {
   "cell_type": "code",
   "execution_count": 10,
   "id": "646882ec",
   "metadata": {},
   "outputs": [
    {
     "name": "stdout",
     "output_type": "stream",
     "text": [
      "True\n"
     ]
    }
   ],
   "source": [
    "print(a>=b)"
   ]
  },
  {
   "cell_type": "code",
   "execution_count": 11,
   "id": "b10c8990",
   "metadata": {},
   "outputs": [
    {
     "name": "stdout",
     "output_type": "stream",
     "text": [
      "False\n"
     ]
    }
   ],
   "source": [
    "print (a<=b)"
   ]
  },
  {
   "cell_type": "code",
   "execution_count": 12,
   "id": "1e8038b3",
   "metadata": {},
   "outputs": [
    {
     "name": "stdout",
     "output_type": "stream",
     "text": [
      "False\n"
     ]
    }
   ],
   "source": [
    "print(a == b)"
   ]
  },
  {
   "cell_type": "code",
   "execution_count": 13,
   "id": "85e4a773",
   "metadata": {},
   "outputs": [
    {
     "name": "stdout",
     "output_type": "stream",
     "text": [
      "True\n"
     ]
    }
   ],
   "source": [
    "print(a != b)"
   ]
  },
  {
   "cell_type": "markdown",
   "id": "7a435748",
   "metadata": {},
   "source": [
    "### Logical operaters"
   ]
  },
  {
   "cell_type": "markdown",
   "id": "e0c3f738",
   "metadata": {},
   "source": [
    "# *AND*\n",
    "# *OR*\n",
    "# *NOT*"
   ]
  },
  {
   "cell_type": "code",
   "execution_count": 15,
   "id": "900c3d8b",
   "metadata": {},
   "outputs": [
    {
     "name": "stdout",
     "output_type": "stream",
     "text": [
      "False\n"
     ]
    }
   ],
   "source": [
    "x =True\n",
    "y = False\n",
    "\n",
    "print( x and y)\n"
   ]
  },
  {
   "cell_type": "code",
   "execution_count": 17,
   "id": "c65022a2",
   "metadata": {},
   "outputs": [
    {
     "name": "stdout",
     "output_type": "stream",
     "text": [
      "True\n"
     ]
    }
   ],
   "source": [
    "print(x or y)\n"
   ]
  },
  {
   "cell_type": "code",
   "execution_count": 19,
   "id": "1bdbd8ef",
   "metadata": {},
   "outputs": [
    {
     "name": "stdout",
     "output_type": "stream",
     "text": [
      "True\n"
     ]
    }
   ],
   "source": [
    "print( not y)"
   ]
  },
  {
   "cell_type": "markdown",
   "id": "0a7c0ea8",
   "metadata": {},
   "source": [
    "### Bitwise Operators"
   ]
  },
  {
   "cell_type": "code",
   "execution_count": 20,
   "id": "6354cf18",
   "metadata": {},
   "outputs": [
    {
     "name": "stdout",
     "output_type": "stream",
     "text": [
      "8\n"
     ]
    }
   ],
   "source": [
    "x = 8 \n",
    "y = 9\n",
    "print(x & y)"
   ]
  },
  {
   "cell_type": "code",
   "execution_count": 21,
   "id": "ac598740",
   "metadata": {},
   "outputs": [
    {
     "name": "stdout",
     "output_type": "stream",
     "text": [
      "9\n"
     ]
    }
   ],
   "source": [
    "print ( x | y)"
   ]
  },
  {
   "cell_type": "code",
   "execution_count": 26,
   "id": "50dc38f2",
   "metadata": {},
   "outputs": [
    {
     "name": "stdout",
     "output_type": "stream",
     "text": [
      "0\n"
     ]
    }
   ],
   "source": [
    "print(x >> 9)"
   ]
  },
  {
   "cell_type": "code",
   "execution_count": 28,
   "id": "fdfc113e",
   "metadata": {},
   "outputs": [
    {
     "name": "stdout",
     "output_type": "stream",
     "text": [
      "1\n"
     ]
    }
   ],
   "source": [
    "print (y >> 3 )"
   ]
  },
  {
   "cell_type": "code",
   "execution_count": null,
   "id": "f2e4e4fe",
   "metadata": {},
   "outputs": [],
   "source": [
    "print()"
   ]
  }
 ],
 "metadata": {
  "kernelspec": {
   "display_name": "Python 3 (ipykernel)",
   "language": "python",
   "name": "python3"
  },
  "language_info": {
   "codemirror_mode": {
    "name": "ipython",
    "version": 3
   },
   "file_extension": ".py",
   "mimetype": "text/x-python",
   "name": "python",
   "nbconvert_exporter": "python",
   "pygments_lexer": "ipython3",
   "version": "3.11.2"
  }
 },
 "nbformat": 4,
 "nbformat_minor": 5
}
